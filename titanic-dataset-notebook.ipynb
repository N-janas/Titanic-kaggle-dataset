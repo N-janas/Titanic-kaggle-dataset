{
 "cells": [
  {
   "cell_type": "code",
   "execution_count": 1,
   "metadata": {
    "_cell_guid": "b1076dfc-b9ad-4769-8c92-a6c4dae69d19",
    "_uuid": "8f2839f25d086af736a60e9eeb907d3b93b6e0e5",
    "execution": {
     "iopub.execute_input": "2020-09-30T16:22:04.134169Z",
     "iopub.status.busy": "2020-09-30T16:22:04.133498Z",
     "iopub.status.idle": "2020-09-30T16:22:04.140867Z",
     "shell.execute_reply": "2020-09-30T16:22:04.141352Z"
    },
    "papermill": {
     "duration": 0.063515,
     "end_time": "2020-09-30T16:22:04.141531",
     "exception": false,
     "start_time": "2020-09-30T16:22:04.078016",
     "status": "completed"
    },
    "tags": []
   },
   "outputs": [
    {
     "name": "stdout",
     "output_type": "stream",
     "text": [
      "/kaggle/input/titanic/gender_submission.csv\n",
      "/kaggle/input/titanic/test.csv\n",
      "/kaggle/input/titanic/train.csv\n"
     ]
    }
   ],
   "source": [
    "import os\n",
    "for dirname, _, filenames in os.walk('/kaggle/input'):\n",
    "    for filename in filenames:\n",
    "        print(os.path.join(dirname, filename))\n",
    "\n",
    "train_path = '/kaggle/input/titanic/train.csv'\n",
    "test_path = '/kaggle/input/titanic/test.csv'\n",
    "example_submission = '/kaggle/input/titanic/gender_submission.csv'"
   ]
  },
  {
   "cell_type": "markdown",
   "metadata": {
    "papermill": {
     "duration": 0.051764,
     "end_time": "2020-09-30T16:22:04.246177",
     "exception": false,
     "start_time": "2020-09-30T16:22:04.194413",
     "status": "completed"
    },
    "tags": []
   },
   "source": [
    "# Imports"
   ]
  },
  {
   "cell_type": "code",
   "execution_count": 2,
   "metadata": {
    "_cell_guid": "79c7e3d0-c299-4dcb-8224-4455121ee9b0",
    "_uuid": "d629ff2d2480ee46fbb7e2d37f6b5fab8052498a",
    "execution": {
     "iopub.execute_input": "2020-09-30T16:22:04.354475Z",
     "iopub.status.busy": "2020-09-30T16:22:04.353862Z",
     "iopub.status.idle": "2020-09-30T16:22:05.422367Z",
     "shell.execute_reply": "2020-09-30T16:22:05.422918Z"
    },
    "papermill": {
     "duration": 1.124086,
     "end_time": "2020-09-30T16:22:05.423060",
     "exception": false,
     "start_time": "2020-09-30T16:22:04.298974",
     "status": "completed"
    },
    "tags": []
   },
   "outputs": [],
   "source": [
    "import pandas as pd\n",
    "import numpy as np\n",
    "import matplotlib.pyplot as plt\n",
    "import seaborn as sns\n",
    "sns.set_style('darkgrid')\n",
    "%matplotlib inline"
   ]
  },
  {
   "cell_type": "markdown",
   "metadata": {
    "papermill": {
     "duration": 0.051845,
     "end_time": "2020-09-30T16:22:05.526791",
     "exception": false,
     "start_time": "2020-09-30T16:22:05.474946",
     "status": "completed"
    },
    "tags": []
   },
   "source": [
    "# Peek on data\n"
   ]
  },
  {
   "cell_type": "code",
   "execution_count": 3,
   "metadata": {
    "execution": {
     "iopub.execute_input": "2020-09-30T16:22:05.634065Z",
     "iopub.status.busy": "2020-09-30T16:22:05.633387Z",
     "iopub.status.idle": "2020-09-30T16:22:05.660281Z",
     "shell.execute_reply": "2020-09-30T16:22:05.660771Z"
    },
    "papermill": {
     "duration": 0.082346,
     "end_time": "2020-09-30T16:22:05.660958",
     "exception": false,
     "start_time": "2020-09-30T16:22:05.578612",
     "status": "completed"
    },
    "tags": []
   },
   "outputs": [],
   "source": [
    "train = pd.read_csv(train_path)\n",
    "test = pd.read_csv(test_path)"
   ]
  },
  {
   "cell_type": "code",
   "execution_count": 4,
   "metadata": {
    "execution": {
     "iopub.execute_input": "2020-09-30T16:22:05.769410Z",
     "iopub.status.busy": "2020-09-30T16:22:05.768662Z",
     "iopub.status.idle": "2020-09-30T16:22:05.775191Z",
     "shell.execute_reply": "2020-09-30T16:22:05.775655Z"
    },
    "papermill": {
     "duration": 0.062711,
     "end_time": "2020-09-30T16:22:05.775835",
     "exception": false,
     "start_time": "2020-09-30T16:22:05.713124",
     "status": "completed"
    },
    "tags": []
   },
   "outputs": [
    {
     "name": "stdout",
     "output_type": "stream",
     "text": [
      "Train :  (891, 12)\n",
      "Test :  (418, 11)\n"
     ]
    }
   ],
   "source": [
    "print('Train : ', train.shape)\n",
    "print('Test : ', test.shape)"
   ]
  },
  {
   "cell_type": "code",
   "execution_count": 5,
   "metadata": {
    "execution": {
     "iopub.execute_input": "2020-09-30T16:22:05.890886Z",
     "iopub.status.busy": "2020-09-30T16:22:05.890145Z",
     "iopub.status.idle": "2020-09-30T16:22:05.917175Z",
     "shell.execute_reply": "2020-09-30T16:22:05.918170Z"
    },
    "papermill": {
     "duration": 0.088888,
     "end_time": "2020-09-30T16:22:05.918345",
     "exception": false,
     "start_time": "2020-09-30T16:22:05.829457",
     "status": "completed"
    },
    "tags": []
   },
   "outputs": [
    {
     "data": {
      "text/html": [
       "<div>\n",
       "<style scoped>\n",
       "    .dataframe tbody tr th:only-of-type {\n",
       "        vertical-align: middle;\n",
       "    }\n",
       "\n",
       "    .dataframe tbody tr th {\n",
       "        vertical-align: top;\n",
       "    }\n",
       "\n",
       "    .dataframe thead th {\n",
       "        text-align: right;\n",
       "    }\n",
       "</style>\n",
       "<table border=\"1\" class=\"dataframe\">\n",
       "  <thead>\n",
       "    <tr style=\"text-align: right;\">\n",
       "      <th></th>\n",
       "      <th>PassengerId</th>\n",
       "      <th>Survived</th>\n",
       "      <th>Pclass</th>\n",
       "      <th>Name</th>\n",
       "      <th>Sex</th>\n",
       "      <th>Age</th>\n",
       "      <th>SibSp</th>\n",
       "      <th>Parch</th>\n",
       "      <th>Ticket</th>\n",
       "      <th>Fare</th>\n",
       "      <th>Cabin</th>\n",
       "      <th>Embarked</th>\n",
       "    </tr>\n",
       "  </thead>\n",
       "  <tbody>\n",
       "    <tr>\n",
       "      <th>0</th>\n",
       "      <td>1</td>\n",
       "      <td>0</td>\n",
       "      <td>3</td>\n",
       "      <td>Braund, Mr. Owen Harris</td>\n",
       "      <td>male</td>\n",
       "      <td>22.0</td>\n",
       "      <td>1</td>\n",
       "      <td>0</td>\n",
       "      <td>A/5 21171</td>\n",
       "      <td>7.2500</td>\n",
       "      <td>NaN</td>\n",
       "      <td>S</td>\n",
       "    </tr>\n",
       "    <tr>\n",
       "      <th>1</th>\n",
       "      <td>2</td>\n",
       "      <td>1</td>\n",
       "      <td>1</td>\n",
       "      <td>Cumings, Mrs. John Bradley (Florence Briggs Th...</td>\n",
       "      <td>female</td>\n",
       "      <td>38.0</td>\n",
       "      <td>1</td>\n",
       "      <td>0</td>\n",
       "      <td>PC 17599</td>\n",
       "      <td>71.2833</td>\n",
       "      <td>C85</td>\n",
       "      <td>C</td>\n",
       "    </tr>\n",
       "    <tr>\n",
       "      <th>2</th>\n",
       "      <td>3</td>\n",
       "      <td>1</td>\n",
       "      <td>3</td>\n",
       "      <td>Heikkinen, Miss. Laina</td>\n",
       "      <td>female</td>\n",
       "      <td>26.0</td>\n",
       "      <td>0</td>\n",
       "      <td>0</td>\n",
       "      <td>STON/O2. 3101282</td>\n",
       "      <td>7.9250</td>\n",
       "      <td>NaN</td>\n",
       "      <td>S</td>\n",
       "    </tr>\n",
       "    <tr>\n",
       "      <th>3</th>\n",
       "      <td>4</td>\n",
       "      <td>1</td>\n",
       "      <td>1</td>\n",
       "      <td>Futrelle, Mrs. Jacques Heath (Lily May Peel)</td>\n",
       "      <td>female</td>\n",
       "      <td>35.0</td>\n",
       "      <td>1</td>\n",
       "      <td>0</td>\n",
       "      <td>113803</td>\n",
       "      <td>53.1000</td>\n",
       "      <td>C123</td>\n",
       "      <td>S</td>\n",
       "    </tr>\n",
       "    <tr>\n",
       "      <th>4</th>\n",
       "      <td>5</td>\n",
       "      <td>0</td>\n",
       "      <td>3</td>\n",
       "      <td>Allen, Mr. William Henry</td>\n",
       "      <td>male</td>\n",
       "      <td>35.0</td>\n",
       "      <td>0</td>\n",
       "      <td>0</td>\n",
       "      <td>373450</td>\n",
       "      <td>8.0500</td>\n",
       "      <td>NaN</td>\n",
       "      <td>S</td>\n",
       "    </tr>\n",
       "  </tbody>\n",
       "</table>\n",
       "</div>"
      ],
      "text/plain": [
       "   PassengerId  Survived  Pclass  \\\n",
       "0            1         0       3   \n",
       "1            2         1       1   \n",
       "2            3         1       3   \n",
       "3            4         1       1   \n",
       "4            5         0       3   \n",
       "\n",
       "                                                Name     Sex   Age  SibSp  \\\n",
       "0                            Braund, Mr. Owen Harris    male  22.0      1   \n",
       "1  Cumings, Mrs. John Bradley (Florence Briggs Th...  female  38.0      1   \n",
       "2                             Heikkinen, Miss. Laina  female  26.0      0   \n",
       "3       Futrelle, Mrs. Jacques Heath (Lily May Peel)  female  35.0      1   \n",
       "4                           Allen, Mr. William Henry    male  35.0      0   \n",
       "\n",
       "   Parch            Ticket     Fare Cabin Embarked  \n",
       "0      0         A/5 21171   7.2500   NaN        S  \n",
       "1      0          PC 17599  71.2833   C85        C  \n",
       "2      0  STON/O2. 3101282   7.9250   NaN        S  \n",
       "3      0            113803  53.1000  C123        S  \n",
       "4      0            373450   8.0500   NaN        S  "
      ]
     },
     "execution_count": 5,
     "metadata": {},
     "output_type": "execute_result"
    }
   ],
   "source": [
    "train.head()"
   ]
  },
  {
   "cell_type": "code",
   "execution_count": 6,
   "metadata": {
    "execution": {
     "iopub.execute_input": "2020-09-30T16:22:06.046637Z",
     "iopub.status.busy": "2020-09-30T16:22:06.045933Z",
     "iopub.status.idle": "2020-09-30T16:22:06.049909Z",
     "shell.execute_reply": "2020-09-30T16:22:06.050516Z"
    },
    "papermill": {
     "duration": 0.078158,
     "end_time": "2020-09-30T16:22:06.050678",
     "exception": false,
     "start_time": "2020-09-30T16:22:05.972520",
     "status": "completed"
    },
    "tags": []
   },
   "outputs": [
    {
     "name": "stdout",
     "output_type": "stream",
     "text": [
      "<class 'pandas.core.frame.DataFrame'>\n",
      "RangeIndex: 891 entries, 0 to 890\n",
      "Data columns (total 12 columns):\n",
      " #   Column       Non-Null Count  Dtype  \n",
      "---  ------       --------------  -----  \n",
      " 0   PassengerId  891 non-null    int64  \n",
      " 1   Survived     891 non-null    int64  \n",
      " 2   Pclass       891 non-null    int64  \n",
      " 3   Name         891 non-null    object \n",
      " 4   Sex          891 non-null    object \n",
      " 5   Age          714 non-null    float64\n",
      " 6   SibSp        891 non-null    int64  \n",
      " 7   Parch        891 non-null    int64  \n",
      " 8   Ticket       891 non-null    object \n",
      " 9   Fare         891 non-null    float64\n",
      " 10  Cabin        204 non-null    object \n",
      " 11  Embarked     889 non-null    object \n",
      "dtypes: float64(2), int64(5), object(5)\n",
      "memory usage: 83.7+ KB\n"
     ]
    }
   ],
   "source": [
    "train.info()"
   ]
  },
  {
   "cell_type": "code",
   "execution_count": 7,
   "metadata": {
    "execution": {
     "iopub.execute_input": "2020-09-30T16:22:06.171841Z",
     "iopub.status.busy": "2020-09-30T16:22:06.171157Z",
     "iopub.status.idle": "2020-09-30T16:22:06.175521Z",
     "shell.execute_reply": "2020-09-30T16:22:06.176027Z"
    },
    "papermill": {
     "duration": 0.071237,
     "end_time": "2020-09-30T16:22:06.176185",
     "exception": false,
     "start_time": "2020-09-30T16:22:06.104948",
     "status": "completed"
    },
    "tags": []
   },
   "outputs": [
    {
     "name": "stdout",
     "output_type": "stream",
     "text": [
      "<class 'pandas.core.frame.DataFrame'>\n",
      "RangeIndex: 418 entries, 0 to 417\n",
      "Data columns (total 11 columns):\n",
      " #   Column       Non-Null Count  Dtype  \n",
      "---  ------       --------------  -----  \n",
      " 0   PassengerId  418 non-null    int64  \n",
      " 1   Pclass       418 non-null    int64  \n",
      " 2   Name         418 non-null    object \n",
      " 3   Sex          418 non-null    object \n",
      " 4   Age          332 non-null    float64\n",
      " 5   SibSp        418 non-null    int64  \n",
      " 6   Parch        418 non-null    int64  \n",
      " 7   Ticket       418 non-null    object \n",
      " 8   Fare         417 non-null    float64\n",
      " 9   Cabin        91 non-null     object \n",
      " 10  Embarked     418 non-null    object \n",
      "dtypes: float64(2), int64(4), object(5)\n",
      "memory usage: 36.0+ KB\n"
     ]
    }
   ],
   "source": [
    "test.info()"
   ]
  },
  {
   "cell_type": "markdown",
   "metadata": {
    "papermill": {
     "duration": 0.054085,
     "end_time": "2020-09-30T16:22:06.286404",
     "exception": false,
     "start_time": "2020-09-30T16:22:06.232319",
     "status": "completed"
    },
    "tags": []
   },
   "source": [
    "## <b> NOTE </b>\n",
    "In test there is one <b>Fare</b> Null"
   ]
  },
  {
   "cell_type": "code",
   "execution_count": 8,
   "metadata": {
    "execution": {
     "iopub.execute_input": "2020-09-30T16:22:06.406858Z",
     "iopub.status.busy": "2020-09-30T16:22:06.406046Z",
     "iopub.status.idle": "2020-09-30T16:22:06.435351Z",
     "shell.execute_reply": "2020-09-30T16:22:06.435894Z"
    },
    "papermill": {
     "duration": 0.094802,
     "end_time": "2020-09-30T16:22:06.436112",
     "exception": false,
     "start_time": "2020-09-30T16:22:06.341310",
     "status": "completed"
    },
    "tags": []
   },
   "outputs": [
    {
     "data": {
      "text/html": [
       "<div>\n",
       "<style scoped>\n",
       "    .dataframe tbody tr th:only-of-type {\n",
       "        vertical-align: middle;\n",
       "    }\n",
       "\n",
       "    .dataframe tbody tr th {\n",
       "        vertical-align: top;\n",
       "    }\n",
       "\n",
       "    .dataframe thead th {\n",
       "        text-align: right;\n",
       "    }\n",
       "</style>\n",
       "<table border=\"1\" class=\"dataframe\">\n",
       "  <thead>\n",
       "    <tr style=\"text-align: right;\">\n",
       "      <th></th>\n",
       "      <th>PassengerId</th>\n",
       "      <th>Survived</th>\n",
       "      <th>Pclass</th>\n",
       "      <th>Age</th>\n",
       "      <th>SibSp</th>\n",
       "      <th>Parch</th>\n",
       "      <th>Fare</th>\n",
       "    </tr>\n",
       "  </thead>\n",
       "  <tbody>\n",
       "    <tr>\n",
       "      <th>count</th>\n",
       "      <td>891.000000</td>\n",
       "      <td>891.000000</td>\n",
       "      <td>891.000000</td>\n",
       "      <td>714.000000</td>\n",
       "      <td>891.000000</td>\n",
       "      <td>891.000000</td>\n",
       "      <td>891.000000</td>\n",
       "    </tr>\n",
       "    <tr>\n",
       "      <th>mean</th>\n",
       "      <td>446.000000</td>\n",
       "      <td>0.383838</td>\n",
       "      <td>2.308642</td>\n",
       "      <td>29.699118</td>\n",
       "      <td>0.523008</td>\n",
       "      <td>0.381594</td>\n",
       "      <td>32.204208</td>\n",
       "    </tr>\n",
       "    <tr>\n",
       "      <th>std</th>\n",
       "      <td>257.353842</td>\n",
       "      <td>0.486592</td>\n",
       "      <td>0.836071</td>\n",
       "      <td>14.526497</td>\n",
       "      <td>1.102743</td>\n",
       "      <td>0.806057</td>\n",
       "      <td>49.693429</td>\n",
       "    </tr>\n",
       "    <tr>\n",
       "      <th>min</th>\n",
       "      <td>1.000000</td>\n",
       "      <td>0.000000</td>\n",
       "      <td>1.000000</td>\n",
       "      <td>0.420000</td>\n",
       "      <td>0.000000</td>\n",
       "      <td>0.000000</td>\n",
       "      <td>0.000000</td>\n",
       "    </tr>\n",
       "    <tr>\n",
       "      <th>25%</th>\n",
       "      <td>223.500000</td>\n",
       "      <td>0.000000</td>\n",
       "      <td>2.000000</td>\n",
       "      <td>20.125000</td>\n",
       "      <td>0.000000</td>\n",
       "      <td>0.000000</td>\n",
       "      <td>7.910400</td>\n",
       "    </tr>\n",
       "    <tr>\n",
       "      <th>50%</th>\n",
       "      <td>446.000000</td>\n",
       "      <td>0.000000</td>\n",
       "      <td>3.000000</td>\n",
       "      <td>28.000000</td>\n",
       "      <td>0.000000</td>\n",
       "      <td>0.000000</td>\n",
       "      <td>14.454200</td>\n",
       "    </tr>\n",
       "    <tr>\n",
       "      <th>75%</th>\n",
       "      <td>668.500000</td>\n",
       "      <td>1.000000</td>\n",
       "      <td>3.000000</td>\n",
       "      <td>38.000000</td>\n",
       "      <td>1.000000</td>\n",
       "      <td>0.000000</td>\n",
       "      <td>31.000000</td>\n",
       "    </tr>\n",
       "    <tr>\n",
       "      <th>max</th>\n",
       "      <td>891.000000</td>\n",
       "      <td>1.000000</td>\n",
       "      <td>3.000000</td>\n",
       "      <td>80.000000</td>\n",
       "      <td>8.000000</td>\n",
       "      <td>6.000000</td>\n",
       "      <td>512.329200</td>\n",
       "    </tr>\n",
       "  </tbody>\n",
       "</table>\n",
       "</div>"
      ],
      "text/plain": [
       "       PassengerId    Survived      Pclass         Age       SibSp  \\\n",
       "count   891.000000  891.000000  891.000000  714.000000  891.000000   \n",
       "mean    446.000000    0.383838    2.308642   29.699118    0.523008   \n",
       "std     257.353842    0.486592    0.836071   14.526497    1.102743   \n",
       "min       1.000000    0.000000    1.000000    0.420000    0.000000   \n",
       "25%     223.500000    0.000000    2.000000   20.125000    0.000000   \n",
       "50%     446.000000    0.000000    3.000000   28.000000    0.000000   \n",
       "75%     668.500000    1.000000    3.000000   38.000000    1.000000   \n",
       "max     891.000000    1.000000    3.000000   80.000000    8.000000   \n",
       "\n",
       "            Parch        Fare  \n",
       "count  891.000000  891.000000  \n",
       "mean     0.381594   32.204208  \n",
       "std      0.806057   49.693429  \n",
       "min      0.000000    0.000000  \n",
       "25%      0.000000    7.910400  \n",
       "50%      0.000000   14.454200  \n",
       "75%      0.000000   31.000000  \n",
       "max      6.000000  512.329200  "
      ]
     },
     "execution_count": 8,
     "metadata": {},
     "output_type": "execute_result"
    }
   ],
   "source": [
    "train.describe()"
   ]
  },
  {
   "cell_type": "code",
   "execution_count": 9,
   "metadata": {
    "execution": {
     "iopub.execute_input": "2020-09-30T16:22:06.556961Z",
     "iopub.status.busy": "2020-09-30T16:22:06.556221Z",
     "iopub.status.idle": "2020-09-30T16:22:06.559597Z",
     "shell.execute_reply": "2020-09-30T16:22:06.559019Z"
    },
    "papermill": {
     "duration": 0.068896,
     "end_time": "2020-09-30T16:22:06.559721",
     "exception": false,
     "start_time": "2020-09-30T16:22:06.490825",
     "status": "completed"
    },
    "tags": []
   },
   "outputs": [],
   "source": [
    "# Separating data by Feature types for better analysis\n",
    "# Numerical (discrete)\n",
    "num_disc = train[['SibSp', 'Parch']].copy()\n",
    "# Numerical (continuous)\n",
    "num_cont = train[['Age', 'Fare']].copy()\n",
    "# Categorical (Nominal and Ordinal(Pclass))\n",
    "cat_attrs = train[['Survived', 'Pclass', 'Name', 'Sex', 'Embarked']].copy()\n",
    "# Mixed \n",
    "mix_attrs = train[['Ticket', 'Cabin']].copy()"
   ]
  },
  {
   "cell_type": "markdown",
   "metadata": {
    "papermill": {
     "duration": 0.054253,
     "end_time": "2020-09-30T16:22:06.668864",
     "exception": false,
     "start_time": "2020-09-30T16:22:06.614611",
     "status": "completed"
    },
    "tags": []
   },
   "source": [
    "# Exploratory Data Analysis"
   ]
  },
  {
   "cell_type": "code",
   "execution_count": 10,
   "metadata": {
    "execution": {
     "iopub.execute_input": "2020-09-30T16:22:06.785541Z",
     "iopub.status.busy": "2020-09-30T16:22:06.784878Z",
     "iopub.status.idle": "2020-09-30T16:22:06.788326Z",
     "shell.execute_reply": "2020-09-30T16:22:06.787754Z"
    },
    "papermill": {
     "duration": 0.063259,
     "end_time": "2020-09-30T16:22:06.788442",
     "exception": false,
     "start_time": "2020-09-30T16:22:06.725183",
     "status": "completed"
    },
    "tags": []
   },
   "outputs": [],
   "source": [
    "from scipy import stats"
   ]
  },
  {
   "cell_type": "markdown",
   "metadata": {
    "papermill": {
     "duration": 0.054682,
     "end_time": "2020-09-30T16:22:06.898451",
     "exception": false,
     "start_time": "2020-09-30T16:22:06.843769",
     "status": "completed"
    },
    "tags": []
   },
   "source": [
    "## Univariate Analysis"
   ]
  },
  {
   "cell_type": "markdown",
   "metadata": {
    "papermill": {
     "duration": 0.054339,
     "end_time": "2020-09-30T16:22:07.007496",
     "exception": false,
     "start_time": "2020-09-30T16:22:06.953157",
     "status": "completed"
    },
    "tags": []
   },
   "source": [
    "### <b> Distributions of Continuous features </b>"
   ]
  },
  {
   "cell_type": "code",
   "execution_count": 11,
   "metadata": {
    "execution": {
     "iopub.execute_input": "2020-09-30T16:22:07.128173Z",
     "iopub.status.busy": "2020-09-30T16:22:07.127372Z",
     "iopub.status.idle": "2020-09-30T16:22:08.080980Z",
     "shell.execute_reply": "2020-09-30T16:22:08.081447Z"
    },
    "papermill": {
     "duration": 1.019541,
     "end_time": "2020-09-30T16:22:08.081614",
     "exception": false,
     "start_time": "2020-09-30T16:22:07.062073",
     "status": "completed"
    },
    "tags": []
   },
   "outputs": [
    {
     "name": "stdout",
     "output_type": "stream",
     "text": [
      "Skewness\n",
      " Age :  0.38910778230082704\n",
      " Fare :  4.787316519674893\n"
     ]
    },
    {
     "data": {
      "image/png": "[encoded data removed]",
      "text/plain": [
       "<Figure size 648x288 with 2 Axes>"
      ]
     },
     "metadata": {
      "needs_background": "light"
     },
     "output_type": "display_data"
    }
   ],
   "source": [
    "fig, axs = plt.subplots(1, 2, figsize=(9,4))\n",
    "\n",
    "sns.distplot(num_cont.iloc[:,0].dropna(), ax=axs[0], fit=stats.norm)\n",
    "sns.distplot(num_cont.iloc[:,1].dropna(), ax=axs[1], fit=stats.norm)\n",
    "\n",
    "for i in range(2):\n",
    "    col = num_cont.iloc[:,i]\n",
    "    axs[i].text(x=0.6, y=0.8, s=f'std_dev={round(col.std(),2)}\\n mean={round(col.mean(),2)}\\n median={round(col.median(),2)}', transform=axs[i].transAxes)\n",
    "\n",
    "print('Skewness\\n Age : ', num_cont.iloc[:,0].skew())\n",
    "print(' Fare : ', num_cont.iloc[:,1].skew())\n",
    "    \n",
    "plt.tight_layout()"
   ]
  },
  {
   "cell_type": "markdown",
   "metadata": {
    "papermill": {
     "duration": 0.056968,
     "end_time": "2020-09-30T16:22:08.196401",
     "exception": false,
     "start_time": "2020-09-30T16:22:08.139433",
     "status": "completed"
    },
    "tags": []
   },
   "source": [
    "#### <b> Note </b>\n",
    "Let's check log from <b>Fare</b>"
   ]
  },
  {
   "cell_type": "code",
   "execution_count": 12,
   "metadata": {
    "execution": {
     "iopub.execute_input": "2020-09-30T16:22:08.316160Z",
     "iopub.status.busy": "2020-09-30T16:22:08.315177Z",
     "iopub.status.idle": "2020-09-30T16:22:08.914405Z",
     "shell.execute_reply": "2020-09-30T16:22:08.915010Z"
    },
    "papermill": {
     "duration": 0.660099,
     "end_time": "2020-09-30T16:22:08.915166",
     "exception": false,
     "start_time": "2020-09-30T16:22:08.255067",
     "status": "completed"
    },
    "tags": []
   },
   "outputs": [
    {
     "name": "stdout",
     "output_type": "stream",
     "text": [
      "Skewness LOG \n",
      " Age (not good) :  -1.8774882259647614\n",
      " Fare :  0.3949280095189306\n"
     ]
    },
    {
     "data": {
      "image/png": "[encoded data removed]",
      "text/plain": [
       "<Figure size 720x288 with 2 Axes>"
      ]
     },
     "metadata": {
      "needs_background": "light"
     },
     "output_type": "display_data"
    }
   ],
   "source": [
    "fig, axs = plt.subplots(1, 2, figsize=(10,4))\n",
    "sns.distplot(np.log1p(train['Fare'].dropna()), fit=stats.norm, ax=axs[0])\n",
    "stats.probplot(np.log1p(train['Fare'].dropna()), plot=axs[1])\n",
    "\n",
    "print('Skewness LOG \\n Age (not good) : ', np.log1p(train['Age'].dropna()).skew())\n",
    "print(' Fare : ', np.log1p(train['Fare'].dropna()).skew())\n",
    "\n",
    "# Plots for FARE\n",
    "plt.show()"
   ]
  },
  {
   "cell_type": "code",
   "execution_count": 13,
   "metadata": {
    "execution": {
     "iopub.execute_input": "2020-09-30T16:22:09.046090Z",
     "iopub.status.busy": "2020-09-30T16:22:09.045386Z",
     "iopub.status.idle": "2020-09-30T16:22:09.398132Z",
     "shell.execute_reply": "2020-09-30T16:22:09.398653Z"
    },
    "papermill": {
     "duration": 0.423829,
     "end_time": "2020-09-30T16:22:09.398813",
     "exception": false,
     "start_time": "2020-09-30T16:22:08.974984",
     "status": "completed"
    },
    "tags": []
   },
   "outputs": [
    {
     "data": {
      "image/png": "[encoded data removed]",
      "text/plain": [
       "<Figure size 648x288 with 2 Axes>"
      ]
     },
     "metadata": {
      "needs_background": "light"
     },
     "output_type": "display_data"
    }
   ],
   "source": [
    "fig, axs = plt.subplots(1, 2, figsize=(9,4))\n",
    "\n",
    "sns.boxplot(y=num_cont.iloc[:,0].dropna(), ax=axs[0])\n",
    "sns.boxplot(y=num_cont.iloc[:,1].dropna(), ax=axs[1])\n",
    "\n",
    "plt.tight_layout()"
   ]
  },
  {
   "cell_type": "code",
   "execution_count": 14,
   "metadata": {
    "execution": {
     "iopub.execute_input": "2020-09-30T16:22:09.522142Z",
     "iopub.status.busy": "2020-09-30T16:22:09.521484Z",
     "iopub.status.idle": "2020-09-30T16:22:09.564348Z",
     "shell.execute_reply": "2020-09-30T16:22:09.564897Z"
    },
    "papermill": {
     "duration": 0.105588,
     "end_time": "2020-09-30T16:22:09.565042",
     "exception": false,
     "start_time": "2020-09-30T16:22:09.459454",
     "status": "completed"
    },
    "tags": []
   },
   "outputs": [
    {
     "data": {
      "text/html": [
       "<div>\n",
       "<style scoped>\n",
       "    .dataframe tbody tr th:only-of-type {\n",
       "        vertical-align: middle;\n",
       "    }\n",
       "\n",
       "    .dataframe tbody tr th {\n",
       "        vertical-align: top;\n",
       "    }\n",
       "\n",
       "    .dataframe thead th {\n",
       "        text-align: right;\n",
       "    }\n",
       "</style>\n",
       "<table border=\"1\" class=\"dataframe\">\n",
       "  <thead>\n",
       "    <tr style=\"text-align: right;\">\n",
       "      <th></th>\n",
       "      <th>PassengerId</th>\n",
       "      <th>Survived</th>\n",
       "      <th>Pclass</th>\n",
       "      <th>Name</th>\n",
       "      <th>Sex</th>\n",
       "      <th>Age</th>\n",
       "      <th>SibSp</th>\n",
       "      <th>Parch</th>\n",
       "      <th>Ticket</th>\n",
       "      <th>Fare</th>\n",
       "      <th>Cabin</th>\n",
       "      <th>Embarked</th>\n",
       "    </tr>\n",
       "  </thead>\n",
       "  <tbody>\n",
       "    <tr>\n",
       "      <th>258</th>\n",
       "      <td>259</td>\n",
       "      <td>1</td>\n",
       "      <td>1</td>\n",
       "      <td>Ward, Miss. Anna</td>\n",
       "      <td>female</td>\n",
       "      <td>35.0</td>\n",
       "      <td>0</td>\n",
       "      <td>0</td>\n",
       "      <td>PC 17755</td>\n",
       "      <td>512.3292</td>\n",
       "      <td>NaN</td>\n",
       "      <td>C</td>\n",
       "    </tr>\n",
       "    <tr>\n",
       "      <th>679</th>\n",
       "      <td>680</td>\n",
       "      <td>1</td>\n",
       "      <td>1</td>\n",
       "      <td>Cardeza, Mr. Thomas Drake Martinez</td>\n",
       "      <td>male</td>\n",
       "      <td>36.0</td>\n",
       "      <td>0</td>\n",
       "      <td>1</td>\n",
       "      <td>PC 17755</td>\n",
       "      <td>512.3292</td>\n",
       "      <td>B51 B53 B55</td>\n",
       "      <td>C</td>\n",
       "    </tr>\n",
       "    <tr>\n",
       "      <th>737</th>\n",
       "      <td>738</td>\n",
       "      <td>1</td>\n",
       "      <td>1</td>\n",
       "      <td>Lesurer, Mr. Gustave J</td>\n",
       "      <td>male</td>\n",
       "      <td>35.0</td>\n",
       "      <td>0</td>\n",
       "      <td>0</td>\n",
       "      <td>PC 17755</td>\n",
       "      <td>512.3292</td>\n",
       "      <td>B101</td>\n",
       "      <td>C</td>\n",
       "    </tr>\n",
       "  </tbody>\n",
       "</table>\n",
       "</div>"
      ],
      "text/plain": [
       "     PassengerId  Survived  Pclass                                Name  \\\n",
       "258          259         1       1                    Ward, Miss. Anna   \n",
       "679          680         1       1  Cardeza, Mr. Thomas Drake Martinez   \n",
       "737          738         1       1              Lesurer, Mr. Gustave J   \n",
       "\n",
       "        Sex   Age  SibSp  Parch    Ticket      Fare        Cabin Embarked  \n",
       "258  female  35.0      0      0  PC 17755  512.3292          NaN        C  \n",
       "679    male  36.0      0      1  PC 17755  512.3292  B51 B53 B55        C  \n",
       "737    male  35.0      0      0  PC 17755  512.3292         B101        C  "
      ]
     },
     "execution_count": 14,
     "metadata": {},
     "output_type": "execute_result"
    }
   ],
   "source": [
    "train[train['Fare']>500]"
   ]
  },
  {
   "cell_type": "markdown",
   "metadata": {
    "papermill": {
     "duration": 0.060816,
     "end_time": "2020-09-30T16:22:09.686515",
     "exception": false,
     "start_time": "2020-09-30T16:22:09.625699",
     "status": "completed"
    },
    "tags": []
   },
   "source": [
    "### Discrete numerical features"
   ]
  },
  {
   "cell_type": "code",
   "execution_count": 15,
   "metadata": {
    "execution": {
     "iopub.execute_input": "2020-09-30T16:22:09.811223Z",
     "iopub.status.busy": "2020-09-30T16:22:09.810487Z",
     "iopub.status.idle": "2020-09-30T16:22:10.259402Z",
     "shell.execute_reply": "2020-09-30T16:22:10.258707Z"
    },
    "papermill": {
     "duration": 0.512702,
     "end_time": "2020-09-30T16:22:10.259719",
     "exception": false,
     "start_time": "2020-09-30T16:22:09.747017",
     "status": "completed"
    },
    "tags": []
   },
   "outputs": [
    {
     "data": {
      "image/png": "[encoded data removed]",
      "text/plain": [
       "<Figure size 648x288 with 2 Axes>"
      ]
     },
     "metadata": {
      "needs_background": "light"
     },
     "output_type": "display_data"
    }
   ],
   "source": [
    "fig, axs = plt.subplots(1, 2, figsize=(9,4))\n",
    "\n",
    "sns.countplot(num_disc.iloc[:,0].dropna(), ax=axs[0])\n",
    "sns.countplot(num_disc.iloc[:,1].dropna(), ax=axs[1])\n",
    "\n",
    "plt.tight_layout()"
   ]
  },
  {
   "cell_type": "markdown",
   "metadata": {
    "papermill": {
     "duration": 0.068913,
     "end_time": "2020-09-30T16:22:10.403492",
     "exception": false,
     "start_time": "2020-09-30T16:22:10.334579",
     "status": "completed"
    },
    "tags": []
   },
   "source": [
    "### Categorical features"
   ]
  },
  {
   "cell_type": "code",
   "execution_count": 16,
   "metadata": {
    "execution": {
     "iopub.execute_input": "2020-09-30T16:22:10.547885Z",
     "iopub.status.busy": "2020-09-30T16:22:10.547186Z",
     "iopub.status.idle": "2020-09-30T16:22:11.169399Z",
     "shell.execute_reply": "2020-09-30T16:22:11.168328Z"
    },
    "papermill": {
     "duration": 0.697004,
     "end_time": "2020-09-30T16:22:11.169539",
     "exception": false,
     "start_time": "2020-09-30T16:22:10.472535",
     "status": "completed"
    },
    "tags": []
   },
   "outputs": [
    {
     "data": {
      "image/png": "[encoded data removed]",
      "text/plain": [
       "<Figure size 648x432 with 4 Axes>"
      ]
     },
     "metadata": {
      "needs_background": "light"
     },
     "output_type": "display_data"
    }
   ],
   "source": [
    "fig = plt.figure(figsize=(9,6))\n",
    "# Drop name\n",
    "for idx, col in enumerate(cat_attrs.drop('Name', axis=1)):\n",
    "    plt.subplot(2, 2, idx+1)\n",
    "    sns.countplot(cat_attrs.loc[:,col].dropna())\n",
    "    \n",
    "plt.tight_layout()"
   ]
  },
  {
   "cell_type": "markdown",
   "metadata": {
    "papermill": {
     "duration": 0.062916,
     "end_time": "2020-09-30T16:22:11.297431",
     "exception": false,
     "start_time": "2020-09-30T16:22:11.234515",
     "status": "completed"
    },
    "tags": []
   },
   "source": [
    "## Bi-Variate Analysis"
   ]
  },
  {
   "cell_type": "code",
   "execution_count": 17,
   "metadata": {
    "execution": {
     "iopub.execute_input": "2020-09-30T16:22:11.434675Z",
     "iopub.status.busy": "2020-09-30T16:22:11.433615Z",
     "iopub.status.idle": "2020-09-30T16:22:11.723981Z",
     "shell.execute_reply": "2020-09-30T16:22:11.724484Z"
    },
    "papermill": {
     "duration": 0.363876,
     "end_time": "2020-09-30T16:22:11.724648",
     "exception": false,
     "start_time": "2020-09-30T16:22:11.360772",
     "status": "completed"
    },
    "tags": []
   },
   "outputs": [
    {
     "data": {
      "text/html": [
       "<div>\n",
       "<style scoped>\n",
       "    .dataframe tbody tr th:only-of-type {\n",
       "        vertical-align: middle;\n",
       "    }\n",
       "\n",
       "    .dataframe tbody tr th {\n",
       "        vertical-align: top;\n",
       "    }\n",
       "\n",
       "    .dataframe thead th {\n",
       "        text-align: right;\n",
       "    }\n",
       "</style>\n",
       "<table border=\"1\" class=\"dataframe\">\n",
       "  <thead>\n",
       "    <tr style=\"text-align: right;\">\n",
       "      <th></th>\n",
       "      <th>Survived</th>\n",
       "    </tr>\n",
       "  </thead>\n",
       "  <tbody>\n",
       "    <tr>\n",
       "      <th>Survived</th>\n",
       "      <td>1.000000</td>\n",
       "    </tr>\n",
       "    <tr>\n",
       "      <th>Fare</th>\n",
       "      <td>0.257307</td>\n",
       "    </tr>\n",
       "    <tr>\n",
       "      <th>Parch</th>\n",
       "      <td>0.081629</td>\n",
       "    </tr>\n",
       "    <tr>\n",
       "      <th>PassengerId</th>\n",
       "      <td>-0.005007</td>\n",
       "    </tr>\n",
       "    <tr>\n",
       "      <th>SibSp</th>\n",
       "      <td>-0.035322</td>\n",
       "    </tr>\n",
       "    <tr>\n",
       "      <th>Age</th>\n",
       "      <td>-0.077221</td>\n",
       "    </tr>\n",
       "    <tr>\n",
       "      <th>Pclass</th>\n",
       "      <td>-0.338481</td>\n",
       "    </tr>\n",
       "  </tbody>\n",
       "</table>\n",
       "</div>"
      ],
      "text/plain": [
       "             Survived\n",
       "Survived     1.000000\n",
       "Fare         0.257307\n",
       "Parch        0.081629\n",
       "PassengerId -0.005007\n",
       "SibSp       -0.035322\n",
       "Age         -0.077221\n",
       "Pclass      -0.338481"
      ]
     },
     "execution_count": 17,
     "metadata": {},
     "output_type": "execute_result"
    },
    {
     "data": {
      "image/png": "[encoded data removed]",
      "text/plain": [
       "<Figure size 432x288 with 2 Axes>"
      ]
     },
     "metadata": {
      "needs_background": "light"
     },
     "output_type": "display_data"
    }
   ],
   "source": [
    "sns.heatmap(train.corr(), mask=train.corr()<0.6, cmap='viridis')\n",
    "train.corr()[['Survived']].sort_values(by='Survived', ascending=False)"
   ]
  },
  {
   "cell_type": "markdown",
   "metadata": {
    "papermill": {
     "duration": 0.063893,
     "end_time": "2020-09-30T16:22:11.853234",
     "exception": false,
     "start_time": "2020-09-30T16:22:11.789341",
     "status": "completed"
    },
    "tags": []
   },
   "source": [
    "No multicolinearity"
   ]
  },
  {
   "cell_type": "markdown",
   "metadata": {
    "papermill": {
     "duration": 0.064005,
     "end_time": "2020-09-30T16:22:11.982384",
     "exception": false,
     "start_time": "2020-09-30T16:22:11.918379",
     "status": "completed"
    },
    "tags": []
   },
   "source": [
    "### Peek at Mixed types (Cabin and Ticket)"
   ]
  },
  {
   "cell_type": "code",
   "execution_count": 18,
   "metadata": {
    "execution": {
     "iopub.execute_input": "2020-09-30T16:22:12.114143Z",
     "iopub.status.busy": "2020-09-30T16:22:12.113140Z",
     "iopub.status.idle": "2020-09-30T16:22:12.136010Z",
     "shell.execute_reply": "2020-09-30T16:22:12.136607Z"
    },
    "papermill": {
     "duration": 0.090368,
     "end_time": "2020-09-30T16:22:12.136772",
     "exception": false,
     "start_time": "2020-09-30T16:22:12.046404",
     "status": "completed"
    },
    "tags": []
   },
   "outputs": [
    {
     "name": "stdout",
     "output_type": "stream",
     "text": [
      "Noted cabins : 204 / 891\n"
     ]
    },
    {
     "data": {
      "text/html": [
       "<div>\n",
       "<style scoped>\n",
       "    .dataframe tbody tr th:only-of-type {\n",
       "        vertical-align: middle;\n",
       "    }\n",
       "\n",
       "    .dataframe tbody tr th {\n",
       "        vertical-align: top;\n",
       "    }\n",
       "\n",
       "    .dataframe thead th {\n",
       "        text-align: right;\n",
       "    }\n",
       "</style>\n",
       "<table border=\"1\" class=\"dataframe\">\n",
       "  <thead>\n",
       "    <tr style=\"text-align: right;\">\n",
       "      <th></th>\n",
       "      <th>People in cabin</th>\n",
       "      <th>Quantity of Cabins</th>\n",
       "    </tr>\n",
       "  </thead>\n",
       "  <tbody>\n",
       "    <tr>\n",
       "      <th>0</th>\n",
       "      <td>1</td>\n",
       "      <td>101</td>\n",
       "    </tr>\n",
       "    <tr>\n",
       "      <th>1</th>\n",
       "      <td>2</td>\n",
       "      <td>38</td>\n",
       "    </tr>\n",
       "    <tr>\n",
       "      <th>2</th>\n",
       "      <td>3</td>\n",
       "      <td>5</td>\n",
       "    </tr>\n",
       "    <tr>\n",
       "      <th>3</th>\n",
       "      <td>4</td>\n",
       "      <td>3</td>\n",
       "    </tr>\n",
       "  </tbody>\n",
       "</table>\n",
       "</div>"
      ],
      "text/plain": [
       "   People in cabin  Quantity of Cabins\n",
       "0                1                 101\n",
       "1                2                  38\n",
       "2                3                   5\n",
       "3                4                   3"
      ]
     },
     "execution_count": 18,
     "metadata": {},
     "output_type": "execute_result"
    }
   ],
   "source": [
    "# Cabin counts\n",
    "cabin_vc = mix_attrs['Cabin'].value_counts()\n",
    "cabin_specs = dict()\n",
    "for n in set(cabin_vc):\n",
    "    cabin_specs[n] = sum(cabin_vc==n)\n",
    "    \n",
    "print('Noted cabins :', sum([pair[0]*pair[1] for pair in cabin_specs.items()]), f'/ {len(train)}' ) \n",
    "pd.DataFrame(cabin_specs.items(), columns=['People in cabin', 'Quantity of Cabins'])"
   ]
  },
  {
   "cell_type": "code",
   "execution_count": 19,
   "metadata": {
    "execution": {
     "iopub.execute_input": "2020-09-30T16:22:12.280064Z",
     "iopub.status.busy": "2020-09-30T16:22:12.277289Z",
     "iopub.status.idle": "2020-09-30T16:22:12.293392Z",
     "shell.execute_reply": "2020-09-30T16:22:12.294067Z"
    },
    "papermill": {
     "duration": 0.093119,
     "end_time": "2020-09-30T16:22:12.294249",
     "exception": false,
     "start_time": "2020-09-30T16:22:12.201130",
     "status": "completed"
    },
    "tags": []
   },
   "outputs": [
    {
     "name": "stdout",
     "output_type": "stream",
     "text": [
      "Noted Tickets : 891 / 891\n"
     ]
    },
    {
     "data": {
      "text/html": [
       "<div>\n",
       "<style scoped>\n",
       "    .dataframe tbody tr th:only-of-type {\n",
       "        vertical-align: middle;\n",
       "    }\n",
       "\n",
       "    .dataframe tbody tr th {\n",
       "        vertical-align: top;\n",
       "    }\n",
       "\n",
       "    .dataframe thead th {\n",
       "        text-align: right;\n",
       "    }\n",
       "</style>\n",
       "<table border=\"1\" class=\"dataframe\">\n",
       "  <thead>\n",
       "    <tr style=\"text-align: right;\">\n",
       "      <th></th>\n",
       "      <th>People per ticket</th>\n",
       "      <th>Quantity of tickets</th>\n",
       "    </tr>\n",
       "  </thead>\n",
       "  <tbody>\n",
       "    <tr>\n",
       "      <th>0</th>\n",
       "      <td>1</td>\n",
       "      <td>547</td>\n",
       "    </tr>\n",
       "    <tr>\n",
       "      <th>1</th>\n",
       "      <td>2</td>\n",
       "      <td>94</td>\n",
       "    </tr>\n",
       "    <tr>\n",
       "      <th>2</th>\n",
       "      <td>3</td>\n",
       "      <td>21</td>\n",
       "    </tr>\n",
       "    <tr>\n",
       "      <th>3</th>\n",
       "      <td>4</td>\n",
       "      <td>11</td>\n",
       "    </tr>\n",
       "    <tr>\n",
       "      <th>4</th>\n",
       "      <td>5</td>\n",
       "      <td>2</td>\n",
       "    </tr>\n",
       "    <tr>\n",
       "      <th>5</th>\n",
       "      <td>6</td>\n",
       "      <td>3</td>\n",
       "    </tr>\n",
       "    <tr>\n",
       "      <th>6</th>\n",
       "      <td>7</td>\n",
       "      <td>3</td>\n",
       "    </tr>\n",
       "  </tbody>\n",
       "</table>\n",
       "</div>"
      ],
      "text/plain": [
       "   People per ticket  Quantity of tickets\n",
       "0                  1                  547\n",
       "1                  2                   94\n",
       "2                  3                   21\n",
       "3                  4                   11\n",
       "4                  5                    2\n",
       "5                  6                    3\n",
       "6                  7                    3"
      ]
     },
     "execution_count": 19,
     "metadata": {},
     "output_type": "execute_result"
    }
   ],
   "source": [
    "# Ticket counts\n",
    "train['Ticket'].value_counts()\n",
    "ticket_vc = train['Ticket'].value_counts()\n",
    "ticket_specs = dict()\n",
    "for n in set(ticket_vc):\n",
    "    ticket_specs[n] = sum(ticket_vc==n)\n",
    "    \n",
    "print('Noted Tickets :', sum([pair[0]*pair[1] for pair in ticket_specs.items()]), f'/ {len(train)}' ) \n",
    "pd.DataFrame(ticket_specs.items(), columns=['People per ticket', 'Quantity of tickets'])"
   ]
  },
  {
   "cell_type": "markdown",
   "metadata": {
    "papermill": {
     "duration": 0.064847,
     "end_time": "2020-09-30T16:22:12.427030",
     "exception": false,
     "start_time": "2020-09-30T16:22:12.362183",
     "status": "completed"
    },
    "tags": []
   },
   "source": [
    "### Note "
   ]
  },
  {
   "cell_type": "code",
   "execution_count": 20,
   "metadata": {
    "execution": {
     "iopub.execute_input": "2020-09-30T16:22:12.563141Z",
     "iopub.status.busy": "2020-09-30T16:22:12.562128Z",
     "iopub.status.idle": "2020-09-30T16:22:12.869348Z",
     "shell.execute_reply": "2020-09-30T16:22:12.869877Z"
    },
    "papermill": {
     "duration": 0.376592,
     "end_time": "2020-09-30T16:22:12.870022",
     "exception": false,
     "start_time": "2020-09-30T16:22:12.493430",
     "status": "completed"
    },
    "tags": []
   },
   "outputs": [
    {
     "data": {
      "text/plain": [
       "<matplotlib.axes._subplots.AxesSubplot at 0x7f2ead1144d0>"
      ]
     },
     "execution_count": 20,
     "metadata": {},
     "output_type": "execute_result"
    },
    {
     "data": {
      "image/png": "[encoded data removed]",
      "text/plain": [
       "<Figure size 432x288 with 1 Axes>"
      ]
     },
     "metadata": {
      "needs_background": "light"
     },
     "output_type": "display_data"
    }
   ],
   "source": [
    "sns.lineplot(x=train.Parch.unique(), y=train.groupby('Parch')['Survived'].mean(), data=train)"
   ]
  },
  {
   "cell_type": "code",
   "execution_count": 21,
   "metadata": {
    "execution": {
     "iopub.execute_input": "2020-09-30T16:22:13.012686Z",
     "iopub.status.busy": "2020-09-30T16:22:13.011601Z",
     "iopub.status.idle": "2020-09-30T16:22:13.329314Z",
     "shell.execute_reply": "2020-09-30T16:22:13.329863Z"
    },
    "papermill": {
     "duration": 0.391611,
     "end_time": "2020-09-30T16:22:13.330012",
     "exception": false,
     "start_time": "2020-09-30T16:22:12.938401",
     "status": "completed"
    },
    "tags": []
   },
   "outputs": [
    {
     "data": {
      "text/plain": [
       "<matplotlib.axes._subplots.AxesSubplot at 0x7f2ead076a10>"
      ]
     },
     "execution_count": 21,
     "metadata": {},
     "output_type": "execute_result"
    },
    {
     "data": {
      "image/png": "[encoded data removed]",
      "text/plain": [
       "<Figure size 432x288 with 1 Axes>"
      ]
     },
     "metadata": {
      "needs_background": "light"
     },
     "output_type": "display_data"
    }
   ],
   "source": [
    "sns.lineplot(x=train.SibSp.unique(), y=train.groupby('SibSp')['Survived'].mean(), data=train)"
   ]
  },
  {
   "cell_type": "code",
   "execution_count": 22,
   "metadata": {
    "execution": {
     "iopub.execute_input": "2020-09-30T16:22:13.471985Z",
     "iopub.status.busy": "2020-09-30T16:22:13.470922Z",
     "iopub.status.idle": "2020-09-30T16:22:13.656398Z",
     "shell.execute_reply": "2020-09-30T16:22:13.656900Z"
    },
    "papermill": {
     "duration": 0.257909,
     "end_time": "2020-09-30T16:22:13.657061",
     "exception": false,
     "start_time": "2020-09-30T16:22:13.399152",
     "status": "completed"
    },
    "tags": []
   },
   "outputs": [
    {
     "data": {
      "text/plain": [
       "<matplotlib.axes._subplots.AxesSubplot at 0x7f2ead036dd0>"
      ]
     },
     "execution_count": 22,
     "metadata": {},
     "output_type": "execute_result"
    },
    {
     "data": {
      "image/png": "[encoded data removed]",
      "text/plain": [
       "<Figure size 432x288 with 1 Axes>"
      ]
     },
     "metadata": {
      "needs_background": "light"
     },
     "output_type": "display_data"
    }
   ],
   "source": [
    "sns.boxplot(x='Pclass', y='Fare', data=train, showmeans=True)\n",
    "# mean\n",
    "# 78.12 after dropping Fare>400 train.drop(train[train['Fare']>400].index)\n",
    "# 84.15 without dropping"
   ]
  },
  {
   "cell_type": "code",
   "execution_count": 23,
   "metadata": {
    "execution": {
     "iopub.execute_input": "2020-09-30T16:22:13.800263Z",
     "iopub.status.busy": "2020-09-30T16:22:13.799250Z",
     "iopub.status.idle": "2020-09-30T16:22:13.994896Z",
     "shell.execute_reply": "2020-09-30T16:22:13.995468Z"
    },
    "papermill": {
     "duration": 0.268311,
     "end_time": "2020-09-30T16:22:13.995628",
     "exception": false,
     "start_time": "2020-09-30T16:22:13.727317",
     "status": "completed"
    },
    "tags": []
   },
   "outputs": [
    {
     "data": {
      "text/plain": [
       "<matplotlib.axes._subplots.AxesSubplot at 0x7f2eacf670d0>"
      ]
     },
     "execution_count": 23,
     "metadata": {},
     "output_type": "execute_result"
    },
    {
     "data": {
      "image/png": "[encoded data removed]",
      "text/plain": [
       "<Figure size 432x288 with 1 Axes>"
      ]
     },
     "metadata": {
      "needs_background": "light"
     },
     "output_type": "display_data"
    }
   ],
   "source": [
    "sns.boxplot(x='Pclass', y='Age', data=train, showmeans=True)"
   ]
  },
  {
   "cell_type": "markdown",
   "metadata": {
    "papermill": {
     "duration": 0.071111,
     "end_time": "2020-09-30T16:22:14.189539",
     "exception": false,
     "start_time": "2020-09-30T16:22:14.118428",
     "status": "completed"
    },
    "tags": []
   },
   "source": [
    "# Data Preprocessing"
   ]
  },
  {
   "cell_type": "markdown",
   "metadata": {
    "papermill": {
     "duration": 0.074067,
     "end_time": "2020-09-30T16:22:14.335514",
     "exception": false,
     "start_time": "2020-09-30T16:22:14.261447",
     "status": "completed"
    },
    "tags": []
   },
   "source": [
    "## Drop features"
   ]
  },
  {
   "cell_type": "code",
   "execution_count": 24,
   "metadata": {
    "execution": {
     "iopub.execute_input": "2020-09-30T16:22:14.486272Z",
     "iopub.status.busy": "2020-09-30T16:22:14.485113Z",
     "iopub.status.idle": "2020-09-30T16:22:14.500818Z",
     "shell.execute_reply": "2020-09-30T16:22:14.500126Z"
    },
    "papermill": {
     "duration": 0.091848,
     "end_time": "2020-09-30T16:22:14.500939",
     "exception": false,
     "start_time": "2020-09-30T16:22:14.409091",
     "status": "completed"
    },
    "tags": []
   },
   "outputs": [
    {
     "data": {
      "text/html": [
       "<div>\n",
       "<style scoped>\n",
       "    .dataframe tbody tr th:only-of-type {\n",
       "        vertical-align: middle;\n",
       "    }\n",
       "\n",
       "    .dataframe tbody tr th {\n",
       "        vertical-align: top;\n",
       "    }\n",
       "\n",
       "    .dataframe thead th {\n",
       "        text-align: right;\n",
       "    }\n",
       "</style>\n",
       "<table border=\"1\" class=\"dataframe\">\n",
       "  <thead>\n",
       "    <tr style=\"text-align: right;\">\n",
       "      <th></th>\n",
       "      <th>Missing %</th>\n",
       "    </tr>\n",
       "  </thead>\n",
       "  <tbody>\n",
       "    <tr>\n",
       "      <th>PassengerId</th>\n",
       "      <td>0.00</td>\n",
       "    </tr>\n",
       "    <tr>\n",
       "      <th>Survived</th>\n",
       "      <td>0.00</td>\n",
       "    </tr>\n",
       "    <tr>\n",
       "      <th>Pclass</th>\n",
       "      <td>0.00</td>\n",
       "    </tr>\n",
       "    <tr>\n",
       "      <th>Name</th>\n",
       "      <td>0.00</td>\n",
       "    </tr>\n",
       "    <tr>\n",
       "      <th>Sex</th>\n",
       "      <td>0.00</td>\n",
       "    </tr>\n",
       "    <tr>\n",
       "      <th>Age</th>\n",
       "      <td>19.87</td>\n",
       "    </tr>\n",
       "    <tr>\n",
       "      <th>SibSp</th>\n",
       "      <td>0.00</td>\n",
       "    </tr>\n",
       "    <tr>\n",
       "      <th>Parch</th>\n",
       "      <td>0.00</td>\n",
       "    </tr>\n",
       "    <tr>\n",
       "      <th>Ticket</th>\n",
       "      <td>0.00</td>\n",
       "    </tr>\n",
       "    <tr>\n",
       "      <th>Fare</th>\n",
       "      <td>0.00</td>\n",
       "    </tr>\n",
       "    <tr>\n",
       "      <th>Cabin</th>\n",
       "      <td>77.10</td>\n",
       "    </tr>\n",
       "    <tr>\n",
       "      <th>Embarked</th>\n",
       "      <td>0.22</td>\n",
       "    </tr>\n",
       "  </tbody>\n",
       "</table>\n",
       "</div>"
      ],
      "text/plain": [
       "             Missing %\n",
       "PassengerId       0.00\n",
       "Survived          0.00\n",
       "Pclass            0.00\n",
       "Name              0.00\n",
       "Sex               0.00\n",
       "Age              19.87\n",
       "SibSp             0.00\n",
       "Parch             0.00\n",
       "Ticket            0.00\n",
       "Fare              0.00\n",
       "Cabin            77.10\n",
       "Embarked          0.22"
      ]
     },
     "execution_count": 24,
     "metadata": {},
     "output_type": "execute_result"
    }
   ],
   "source": [
    "missing_data = pd.DataFrame((train.isna().sum() / len(train)).round(4)*100, columns=['Missing %'] )\n",
    "missing_data"
   ]
  },
  {
   "cell_type": "markdown",
   "metadata": {
    "papermill": {
     "duration": 0.07045,
     "end_time": "2020-09-30T16:22:14.645369",
     "exception": false,
     "start_time": "2020-09-30T16:22:14.574919",
     "status": "completed"
    },
    "tags": []
   },
   "source": [
    "Drop Cabin, impute Age (based on Pclass mean), Impute Embark (most_frequent), Impute Fare (based on Pclass mean/med in case of dropping outlier)"
   ]
  },
  {
   "cell_type": "markdown",
   "metadata": {
    "papermill": {
     "duration": 0.070484,
     "end_time": "2020-09-30T16:22:14.786700",
     "exception": false,
     "start_time": "2020-09-30T16:22:14.716216",
     "status": "completed"
    },
    "tags": []
   },
   "source": [
    "## Removing Outliers"
   ]
  },
  {
   "cell_type": "markdown",
   "metadata": {
    "papermill": {
     "duration": 0.071361,
     "end_time": "2020-09-30T16:22:14.931392",
     "exception": false,
     "start_time": "2020-09-30T16:22:14.860031",
     "status": "completed"
    },
    "tags": []
   },
   "source": [
    "> #### Remove Fare>250"
   ]
  },
  {
   "cell_type": "markdown",
   "metadata": {
    "papermill": {
     "duration": 0.072185,
     "end_time": "2020-09-30T16:22:15.078190",
     "exception": false,
     "start_time": "2020-09-30T16:22:15.006005",
     "status": "completed"
    },
    "tags": []
   },
   "source": [
    "# Feature Engineering"
   ]
  },
  {
   "cell_type": "code",
   "execution_count": 25,
   "metadata": {
    "execution": {
     "iopub.execute_input": "2020-09-30T16:22:15.232117Z",
     "iopub.status.busy": "2020-09-30T16:22:15.231332Z",
     "iopub.status.idle": "2020-09-30T16:22:15.234098Z",
     "shell.execute_reply": "2020-09-30T16:22:15.234628Z"
    },
    "papermill": {
     "duration": 0.084163,
     "end_time": "2020-09-30T16:22:15.234770",
     "exception": false,
     "start_time": "2020-09-30T16:22:15.150607",
     "status": "completed"
    },
    "tags": []
   },
   "outputs": [],
   "source": [
    "train_fe = train.copy()\n",
    "train_fe.head()\n",
    "\n",
    "test_fe = test.copy()"
   ]
  },
  {
   "cell_type": "markdown",
   "metadata": {
    "papermill": {
     "duration": 0.072795,
     "end_time": "2020-09-30T16:22:15.381071",
     "exception": false,
     "start_time": "2020-09-30T16:22:15.308276",
     "status": "completed"
    },
    "tags": []
   },
   "source": [
    "> ### Ideas: \n",
    "* Pull Title from Name\n",
    "* Create Family Size from SibSp & Parch\n",
    "* Get cabin symbols\n",
    "* Get ticket type num/not num\n",
    "* Get number of registered cabins for user"
   ]
  },
  {
   "cell_type": "code",
   "execution_count": 26,
   "metadata": {
    "execution": {
     "iopub.execute_input": "2020-09-30T16:22:15.531979Z",
     "iopub.status.busy": "2020-09-30T16:22:15.531294Z",
     "iopub.status.idle": "2020-09-30T16:22:15.537355Z",
     "shell.execute_reply": "2020-09-30T16:22:15.537958Z"
    },
    "papermill": {
     "duration": 0.0839,
     "end_time": "2020-09-30T16:22:15.538111",
     "exception": false,
     "start_time": "2020-09-30T16:22:15.454211",
     "status": "completed"
    },
    "tags": []
   },
   "outputs": [],
   "source": [
    "all_titles = ['Mr.','Miss.','Mrs.','Master.','Rev.','Don.','Dr.','Ms.','Col.','Major.','Capt.','Jonkheer.','Countess.','Mme.','Mlle.','Lady.','Sir.']\n",
    "\n",
    "def get_title(name):\n",
    "    for s in name.split():\n",
    "        if s in all_titles:\n",
    "            return s"
   ]
  },
  {
   "cell_type": "code",
   "execution_count": 27,
   "metadata": {
    "execution": {
     "iopub.execute_input": "2020-09-30T16:22:15.690517Z",
     "iopub.status.busy": "2020-09-30T16:22:15.689535Z",
     "iopub.status.idle": "2020-09-30T16:22:16.056946Z",
     "shell.execute_reply": "2020-09-30T16:22:16.056372Z"
    },
    "papermill": {
     "duration": 0.445714,
     "end_time": "2020-09-30T16:22:16.057071",
     "exception": false,
     "start_time": "2020-09-30T16:22:15.611357",
     "status": "completed"
    },
    "tags": []
   },
   "outputs": [
    {
     "data": {
      "text/html": [
       "<div>\n",
       "<style scoped>\n",
       "    .dataframe tbody tr th:only-of-type {\n",
       "        vertical-align: middle;\n",
       "    }\n",
       "\n",
       "    .dataframe tbody tr th {\n",
       "        vertical-align: top;\n",
       "    }\n",
       "\n",
       "    .dataframe thead th {\n",
       "        text-align: right;\n",
       "    }\n",
       "</style>\n",
       "<table border=\"1\" class=\"dataframe\">\n",
       "  <thead>\n",
       "    <tr style=\"text-align: right;\">\n",
       "      <th></th>\n",
       "      <th>PassengerId</th>\n",
       "      <th>Survived</th>\n",
       "      <th>Pclass</th>\n",
       "      <th>Name</th>\n",
       "      <th>Sex</th>\n",
       "      <th>Age</th>\n",
       "      <th>SibSp</th>\n",
       "      <th>Parch</th>\n",
       "      <th>Ticket</th>\n",
       "      <th>Fare</th>\n",
       "      <th>Cabin</th>\n",
       "      <th>Embarked</th>\n",
       "      <th>title</th>\n",
       "    </tr>\n",
       "  </thead>\n",
       "  <tbody>\n",
       "    <tr>\n",
       "      <th>0</th>\n",
       "      <td>1</td>\n",
       "      <td>0</td>\n",
       "      <td>3</td>\n",
       "      <td>Braund, Mr. Owen Harris</td>\n",
       "      <td>male</td>\n",
       "      <td>22.0</td>\n",
       "      <td>1</td>\n",
       "      <td>0</td>\n",
       "      <td>A/5 21171</td>\n",
       "      <td>7.2500</td>\n",
       "      <td>NaN</td>\n",
       "      <td>S</td>\n",
       "      <td>Mr.</td>\n",
       "    </tr>\n",
       "    <tr>\n",
       "      <th>1</th>\n",
       "      <td>2</td>\n",
       "      <td>1</td>\n",
       "      <td>1</td>\n",
       "      <td>Cumings, Mrs. John Bradley (Florence Briggs Th...</td>\n",
       "      <td>female</td>\n",
       "      <td>38.0</td>\n",
       "      <td>1</td>\n",
       "      <td>0</td>\n",
       "      <td>PC 17599</td>\n",
       "      <td>71.2833</td>\n",
       "      <td>C85</td>\n",
       "      <td>C</td>\n",
       "      <td>Mrs.</td>\n",
       "    </tr>\n",
       "    <tr>\n",
       "      <th>2</th>\n",
       "      <td>3</td>\n",
       "      <td>1</td>\n",
       "      <td>3</td>\n",
       "      <td>Heikkinen, Miss. Laina</td>\n",
       "      <td>female</td>\n",
       "      <td>26.0</td>\n",
       "      <td>0</td>\n",
       "      <td>0</td>\n",
       "      <td>STON/O2. 3101282</td>\n",
       "      <td>7.9250</td>\n",
       "      <td>NaN</td>\n",
       "      <td>S</td>\n",
       "      <td>Miss.</td>\n",
       "    </tr>\n",
       "    <tr>\n",
       "      <th>3</th>\n",
       "      <td>4</td>\n",
       "      <td>1</td>\n",
       "      <td>1</td>\n",
       "      <td>Futrelle, Mrs. Jacques Heath (Lily May Peel)</td>\n",
       "      <td>female</td>\n",
       "      <td>35.0</td>\n",
       "      <td>1</td>\n",
       "      <td>0</td>\n",
       "      <td>113803</td>\n",
       "      <td>53.1000</td>\n",
       "      <td>C123</td>\n",
       "      <td>S</td>\n",
       "      <td>Mrs.</td>\n",
       "    </tr>\n",
       "    <tr>\n",
       "      <th>4</th>\n",
       "      <td>5</td>\n",
       "      <td>0</td>\n",
       "      <td>3</td>\n",
       "      <td>Allen, Mr. William Henry</td>\n",
       "      <td>male</td>\n",
       "      <td>35.0</td>\n",
       "      <td>0</td>\n",
       "      <td>0</td>\n",
       "      <td>373450</td>\n",
       "      <td>8.0500</td>\n",
       "      <td>NaN</td>\n",
       "      <td>S</td>\n",
       "      <td>Mr.</td>\n",
       "    </tr>\n",
       "  </tbody>\n",
       "</table>\n",
       "</div>"
      ],
      "text/plain": [
       "   PassengerId  Survived  Pclass  \\\n",
       "0            1         0       3   \n",
       "1            2         1       1   \n",
       "2            3         1       3   \n",
       "3            4         1       1   \n",
       "4            5         0       3   \n",
       "\n",
       "                                                Name     Sex   Age  SibSp  \\\n",
       "0                            Braund, Mr. Owen Harris    male  22.0      1   \n",
       "1  Cumings, Mrs. John Bradley (Florence Briggs Th...  female  38.0      1   \n",
       "2                             Heikkinen, Miss. Laina  female  26.0      0   \n",
       "3       Futrelle, Mrs. Jacques Heath (Lily May Peel)  female  35.0      1   \n",
       "4                           Allen, Mr. William Henry    male  35.0      0   \n",
       "\n",
       "   Parch            Ticket     Fare Cabin Embarked  title  \n",
       "0      0         A/5 21171   7.2500   NaN        S    Mr.  \n",
       "1      0          PC 17599  71.2833   C85        C   Mrs.  \n",
       "2      0  STON/O2. 3101282   7.9250   NaN        S  Miss.  \n",
       "3      0            113803  53.1000  C123        S   Mrs.  \n",
       "4      0            373450   8.0500   NaN        S    Mr.  "
      ]
     },
     "execution_count": 27,
     "metadata": {},
     "output_type": "execute_result"
    },
    {
     "data": {
      "image/png": "[encoded data removed]",
      "text/plain": [
       "<Figure size 504x360 with 1 Axes>"
      ]
     },
     "metadata": {
      "needs_background": "light"
     },
     "output_type": "display_data"
    }
   ],
   "source": [
    "train_fe['title'] = train_fe['Name'].apply(get_title)\n",
    "# Mlle and Mme -> Mademoiselle (equivalent of Miss)\n",
    "\n",
    "# Visualization\n",
    "plt.figure(figsize=(7,5))\n",
    "sns.countplot(train_fe['title'])\n",
    "plt.xticks(rotation=60)\n",
    "plt.tight_layout()\n",
    "\n",
    "train_fe.head()"
   ]
  },
  {
   "cell_type": "markdown",
   "metadata": {
    "papermill": {
     "duration": 0.074366,
     "end_time": "2020-09-30T16:22:16.210581",
     "exception": false,
     "start_time": "2020-09-30T16:22:16.136215",
     "status": "completed"
    },
    "tags": []
   },
   "source": [
    "### Note lets pick Mr, Mrs, Miss, Master, and other"
   ]
  },
  {
   "cell_type": "code",
   "execution_count": 28,
   "metadata": {
    "execution": {
     "iopub.execute_input": "2020-09-30T16:22:16.378015Z",
     "iopub.status.busy": "2020-09-30T16:22:16.377260Z",
     "iopub.status.idle": "2020-09-30T16:22:16.610678Z",
     "shell.execute_reply": "2020-09-30T16:22:16.611246Z"
    },
    "papermill": {
     "duration": 0.325021,
     "end_time": "2020-09-30T16:22:16.611406",
     "exception": false,
     "start_time": "2020-09-30T16:22:16.286385",
     "status": "completed"
    },
    "tags": []
   },
   "outputs": [
    {
     "data": {
      "text/plain": [
       "title\n",
       "Master.    0.575000\n",
       "Miss.      0.704301\n",
       "Mr.        0.156673\n",
       "Mrs.       0.792000\n",
       "other      0.347826\n",
       "Name: Survived, dtype: float64"
      ]
     },
     "execution_count": 28,
     "metadata": {},
     "output_type": "execute_result"
    },
    {
     "data": {
      "image/png": "[encoded data removed]",
      "text/plain": [
       "<Figure size 432x288 with 1 Axes>"
      ]
     },
     "metadata": {
      "needs_background": "light"
     },
     "output_type": "display_data"
    }
   ],
   "source": [
    "# bin titles\n",
    "titles = ['Mr.', 'Miss.', 'Mrs.', 'Master.']\n",
    "train_fe.loc[(train_fe['title']=='Mme.') | (train_fe['title']=='Mlle.') | (train_fe['title']=='Ms.'), 'title'] = 'Miss.'\n",
    "train_fe.loc[~train_fe['title'].isin(titles), 'title'] = 'other'\n",
    "\n",
    "# Visualization\n",
    "plt.figure(figsize=(6,4))\n",
    "sns.countplot(train_fe['title'], hue='Survived', data=train_fe)\n",
    "plt.xticks(rotation=60)\n",
    "plt.tight_layout()\n",
    "\n",
    "# Survived Percentage\n",
    "train_fe.groupby('title')['Survived'].mean()"
   ]
  },
  {
   "cell_type": "code",
   "execution_count": 29,
   "metadata": {
    "execution": {
     "iopub.execute_input": "2020-09-30T16:22:16.774955Z",
     "iopub.status.busy": "2020-09-30T16:22:16.773701Z",
     "iopub.status.idle": "2020-09-30T16:22:16.805086Z",
     "shell.execute_reply": "2020-09-30T16:22:16.805635Z"
    },
    "papermill": {
     "duration": 0.117267,
     "end_time": "2020-09-30T16:22:16.805793",
     "exception": false,
     "start_time": "2020-09-30T16:22:16.688526",
     "status": "completed"
    },
    "tags": []
   },
   "outputs": [
    {
     "data": {
      "text/html": [
       "<div>\n",
       "<style scoped>\n",
       "    .dataframe tbody tr th:only-of-type {\n",
       "        vertical-align: middle;\n",
       "    }\n",
       "\n",
       "    .dataframe tbody tr th {\n",
       "        vertical-align: top;\n",
       "    }\n",
       "\n",
       "    .dataframe thead th {\n",
       "        text-align: right;\n",
       "    }\n",
       "</style>\n",
       "<table border=\"1\" class=\"dataframe\">\n",
       "  <thead>\n",
       "    <tr style=\"text-align: right;\">\n",
       "      <th></th>\n",
       "      <th>PassengerId</th>\n",
       "      <th>Pclass</th>\n",
       "      <th>Name</th>\n",
       "      <th>Sex</th>\n",
       "      <th>Age</th>\n",
       "      <th>SibSp</th>\n",
       "      <th>Parch</th>\n",
       "      <th>Ticket</th>\n",
       "      <th>Fare</th>\n",
       "      <th>Cabin</th>\n",
       "      <th>Embarked</th>\n",
       "      <th>title</th>\n",
       "    </tr>\n",
       "  </thead>\n",
       "  <tbody>\n",
       "    <tr>\n",
       "      <th>0</th>\n",
       "      <td>892</td>\n",
       "      <td>3</td>\n",
       "      <td>Kelly, Mr. James</td>\n",
       "      <td>male</td>\n",
       "      <td>34.5</td>\n",
       "      <td>0</td>\n",
       "      <td>0</td>\n",
       "      <td>330911</td>\n",
       "      <td>7.8292</td>\n",
       "      <td>NaN</td>\n",
       "      <td>Q</td>\n",
       "      <td>0</td>\n",
       "    </tr>\n",
       "    <tr>\n",
       "      <th>1</th>\n",
       "      <td>893</td>\n",
       "      <td>3</td>\n",
       "      <td>Wilkes, Mrs. James (Ellen Needs)</td>\n",
       "      <td>female</td>\n",
       "      <td>47.0</td>\n",
       "      <td>1</td>\n",
       "      <td>0</td>\n",
       "      <td>363272</td>\n",
       "      <td>7.0000</td>\n",
       "      <td>NaN</td>\n",
       "      <td>S</td>\n",
       "      <td>4</td>\n",
       "    </tr>\n",
       "    <tr>\n",
       "      <th>2</th>\n",
       "      <td>894</td>\n",
       "      <td>2</td>\n",
       "      <td>Myles, Mr. Thomas Francis</td>\n",
       "      <td>male</td>\n",
       "      <td>62.0</td>\n",
       "      <td>0</td>\n",
       "      <td>0</td>\n",
       "      <td>240276</td>\n",
       "      <td>9.6875</td>\n",
       "      <td>NaN</td>\n",
       "      <td>Q</td>\n",
       "      <td>0</td>\n",
       "    </tr>\n",
       "    <tr>\n",
       "      <th>3</th>\n",
       "      <td>895</td>\n",
       "      <td>3</td>\n",
       "      <td>Wirz, Mr. Albert</td>\n",
       "      <td>male</td>\n",
       "      <td>27.0</td>\n",
       "      <td>0</td>\n",
       "      <td>0</td>\n",
       "      <td>315154</td>\n",
       "      <td>8.6625</td>\n",
       "      <td>NaN</td>\n",
       "      <td>S</td>\n",
       "      <td>0</td>\n",
       "    </tr>\n",
       "    <tr>\n",
       "      <th>4</th>\n",
       "      <td>896</td>\n",
       "      <td>3</td>\n",
       "      <td>Hirvonen, Mrs. Alexander (Helga E Lindqvist)</td>\n",
       "      <td>female</td>\n",
       "      <td>22.0</td>\n",
       "      <td>1</td>\n",
       "      <td>1</td>\n",
       "      <td>3101298</td>\n",
       "      <td>12.2875</td>\n",
       "      <td>NaN</td>\n",
       "      <td>S</td>\n",
       "      <td>4</td>\n",
       "    </tr>\n",
       "  </tbody>\n",
       "</table>\n",
       "</div>"
      ],
      "text/plain": [
       "   PassengerId  Pclass                                          Name     Sex  \\\n",
       "0          892       3                              Kelly, Mr. James    male   \n",
       "1          893       3              Wilkes, Mrs. James (Ellen Needs)  female   \n",
       "2          894       2                     Myles, Mr. Thomas Francis    male   \n",
       "3          895       3                              Wirz, Mr. Albert    male   \n",
       "4          896       3  Hirvonen, Mrs. Alexander (Helga E Lindqvist)  female   \n",
       "\n",
       "    Age  SibSp  Parch   Ticket     Fare Cabin Embarked  title  \n",
       "0  34.5      0      0   330911   7.8292   NaN        Q      0  \n",
       "1  47.0      1      0   363272   7.0000   NaN        S      4  \n",
       "2  62.0      0      0   240276   9.6875   NaN        Q      0  \n",
       "3  27.0      0      0   315154   8.6625   NaN        S      0  \n",
       "4  22.0      1      1  3101298  12.2875   NaN        S      4  "
      ]
     },
     "execution_count": 29,
     "metadata": {},
     "output_type": "execute_result"
    }
   ],
   "source": [
    "# Changing to Ordinal type\n",
    "train_fe['title'] = train_fe['title'].map({'Mr.': 0, 'other': 1, 'Master.': 2, 'Miss.': 3, 'Mrs.': 4})\n",
    "\n",
    "# TEST\n",
    "test_fe['title'] = test_fe['Name'].apply(get_title)\n",
    "test_fe.loc[(test_fe['title']=='Mme.') | (test_fe['title']=='Mlle.') | (test_fe['title']=='Ms.'), 'title'] = 'Miss.'\n",
    "test_fe.loc[~test_fe['title'].isin(titles), 'title'] = 'other'\n",
    "# Changing to Ordinal type\n",
    "test_fe['title'] = test_fe['title'].map({'Mr.': 0, 'other': 1, 'Master.': 2, 'Miss.': 3, 'Mrs.': 4})\n",
    "test_fe.head()"
   ]
  },
  {
   "cell_type": "markdown",
   "metadata": {
    "papermill": {
     "duration": 0.079014,
     "end_time": "2020-09-30T16:22:16.966058",
     "exception": false,
     "start_time": "2020-09-30T16:22:16.887044",
     "status": "completed"
    },
    "tags": []
   },
   "source": [
    "> ## Create family size"
   ]
  },
  {
   "cell_type": "code",
   "execution_count": 30,
   "metadata": {
    "execution": {
     "iopub.execute_input": "2020-09-30T16:22:17.123694Z",
     "iopub.status.busy": "2020-09-30T16:22:17.122592Z",
     "iopub.status.idle": "2020-09-30T16:22:17.558770Z",
     "shell.execute_reply": "2020-09-30T16:22:17.559429Z"
    },
    "papermill": {
     "duration": 0.517208,
     "end_time": "2020-09-30T16:22:17.559571",
     "exception": false,
     "start_time": "2020-09-30T16:22:17.042363",
     "status": "completed"
    },
    "tags": []
   },
   "outputs": [
    {
     "data": {
      "text/html": [
       "<div>\n",
       "<style scoped>\n",
       "    .dataframe tbody tr th:only-of-type {\n",
       "        vertical-align: middle;\n",
       "    }\n",
       "\n",
       "    .dataframe tbody tr th {\n",
       "        vertical-align: top;\n",
       "    }\n",
       "\n",
       "    .dataframe thead th {\n",
       "        text-align: right;\n",
       "    }\n",
       "</style>\n",
       "<table border=\"1\" class=\"dataframe\">\n",
       "  <thead>\n",
       "    <tr style=\"text-align: right;\">\n",
       "      <th></th>\n",
       "      <th>PassengerId</th>\n",
       "      <th>Survived</th>\n",
       "      <th>Pclass</th>\n",
       "      <th>Name</th>\n",
       "      <th>Sex</th>\n",
       "      <th>Age</th>\n",
       "      <th>SibSp</th>\n",
       "      <th>Parch</th>\n",
       "      <th>Ticket</th>\n",
       "      <th>Fare</th>\n",
       "      <th>Cabin</th>\n",
       "      <th>Embarked</th>\n",
       "      <th>title</th>\n",
       "      <th>family_size</th>\n",
       "    </tr>\n",
       "  </thead>\n",
       "  <tbody>\n",
       "    <tr>\n",
       "      <th>0</th>\n",
       "      <td>1</td>\n",
       "      <td>0</td>\n",
       "      <td>3</td>\n",
       "      <td>Braund, Mr. Owen Harris</td>\n",
       "      <td>male</td>\n",
       "      <td>22.0</td>\n",
       "      <td>1</td>\n",
       "      <td>0</td>\n",
       "      <td>A/5 21171</td>\n",
       "      <td>7.2500</td>\n",
       "      <td>NaN</td>\n",
       "      <td>S</td>\n",
       "      <td>0</td>\n",
       "      <td>2</td>\n",
       "    </tr>\n",
       "    <tr>\n",
       "      <th>1</th>\n",
       "      <td>2</td>\n",
       "      <td>1</td>\n",
       "      <td>1</td>\n",
       "      <td>Cumings, Mrs. John Bradley (Florence Briggs Th...</td>\n",
       "      <td>female</td>\n",
       "      <td>38.0</td>\n",
       "      <td>1</td>\n",
       "      <td>0</td>\n",
       "      <td>PC 17599</td>\n",
       "      <td>71.2833</td>\n",
       "      <td>C85</td>\n",
       "      <td>C</td>\n",
       "      <td>4</td>\n",
       "      <td>2</td>\n",
       "    </tr>\n",
       "    <tr>\n",
       "      <th>2</th>\n",
       "      <td>3</td>\n",
       "      <td>1</td>\n",
       "      <td>3</td>\n",
       "      <td>Heikkinen, Miss. Laina</td>\n",
       "      <td>female</td>\n",
       "      <td>26.0</td>\n",
       "      <td>0</td>\n",
       "      <td>0</td>\n",
       "      <td>STON/O2. 3101282</td>\n",
       "      <td>7.9250</td>\n",
       "      <td>NaN</td>\n",
       "      <td>S</td>\n",
       "      <td>3</td>\n",
       "      <td>1</td>\n",
       "    </tr>\n",
       "    <tr>\n",
       "      <th>3</th>\n",
       "      <td>4</td>\n",
       "      <td>1</td>\n",
       "      <td>1</td>\n",
       "      <td>Futrelle, Mrs. Jacques Heath (Lily May Peel)</td>\n",
       "      <td>female</td>\n",
       "      <td>35.0</td>\n",
       "      <td>1</td>\n",
       "      <td>0</td>\n",
       "      <td>113803</td>\n",
       "      <td>53.1000</td>\n",
       "      <td>C123</td>\n",
       "      <td>S</td>\n",
       "      <td>4</td>\n",
       "      <td>2</td>\n",
       "    </tr>\n",
       "    <tr>\n",
       "      <th>4</th>\n",
       "      <td>5</td>\n",
       "      <td>0</td>\n",
       "      <td>3</td>\n",
       "      <td>Allen, Mr. William Henry</td>\n",
       "      <td>male</td>\n",
       "      <td>35.0</td>\n",
       "      <td>0</td>\n",
       "      <td>0</td>\n",
       "      <td>373450</td>\n",
       "      <td>8.0500</td>\n",
       "      <td>NaN</td>\n",
       "      <td>S</td>\n",
       "      <td>0</td>\n",
       "      <td>1</td>\n",
       "    </tr>\n",
       "  </tbody>\n",
       "</table>\n",
       "</div>"
      ],
      "text/plain": [
       "   PassengerId  Survived  Pclass  \\\n",
       "0            1         0       3   \n",
       "1            2         1       1   \n",
       "2            3         1       3   \n",
       "3            4         1       1   \n",
       "4            5         0       3   \n",
       "\n",
       "                                                Name     Sex   Age  SibSp  \\\n",
       "0                            Braund, Mr. Owen Harris    male  22.0      1   \n",
       "1  Cumings, Mrs. John Bradley (Florence Briggs Th...  female  38.0      1   \n",
       "2                             Heikkinen, Miss. Laina  female  26.0      0   \n",
       "3       Futrelle, Mrs. Jacques Heath (Lily May Peel)  female  35.0      1   \n",
       "4                           Allen, Mr. William Henry    male  35.0      0   \n",
       "\n",
       "   Parch            Ticket     Fare Cabin Embarked  title  family_size  \n",
       "0      0         A/5 21171   7.2500   NaN        S      0            2  \n",
       "1      0          PC 17599  71.2833   C85        C      4            2  \n",
       "2      0  STON/O2. 3101282   7.9250   NaN        S      3            1  \n",
       "3      0            113803  53.1000  C123        S      4            2  \n",
       "4      0            373450   8.0500   NaN        S      0            1  "
      ]
     },
     "execution_count": 30,
     "metadata": {},
     "output_type": "execute_result"
    },
    {
     "data": {
      "image/png": "[encoded data removed]",
      "text/plain": [
       "<Figure size 576x360 with 1 Axes>"
      ]
     },
     "metadata": {
      "needs_background": "light"
     },
     "output_type": "display_data"
    }
   ],
   "source": [
    "train_fe['family_size'] = train_fe['SibSp'] + train_fe['Parch'] + 1\n",
    "\n",
    "# Visualization\n",
    "plt.figure(figsize=(8,5))\n",
    "sns.countplot(train_fe['family_size'], hue='Survived', data=train_fe)\n",
    "train_fe.head()"
   ]
  },
  {
   "cell_type": "markdown",
   "metadata": {
    "papermill": {
     "duration": 0.080015,
     "end_time": "2020-09-30T16:22:17.717576",
     "exception": false,
     "start_time": "2020-09-30T16:22:17.637561",
     "status": "completed"
    },
    "tags": []
   },
   "source": [
    "> ### Family of size 1 and >4 have advantage of NOT survived\n",
    "> ### While Fs (2,3,4) have advantage of Survived"
   ]
  },
  {
   "cell_type": "markdown",
   "metadata": {
    "papermill": {
     "duration": 0.081242,
     "end_time": "2020-09-30T16:22:17.877606",
     "exception": false,
     "start_time": "2020-09-30T16:22:17.796364",
     "status": "completed"
    },
    "tags": []
   },
   "source": [
    "Note Lets bin into 3 categories (<b>S</b>olo, <b>M</b>iddle sized family, <b>L</b>arge family) => (1, 2-4, 5>=)"
   ]
  },
  {
   "cell_type": "code",
   "execution_count": 31,
   "metadata": {
    "execution": {
     "iopub.execute_input": "2020-09-30T16:22:18.038990Z",
     "iopub.status.busy": "2020-09-30T16:22:18.037696Z",
     "iopub.status.idle": "2020-09-30T16:22:18.065965Z",
     "shell.execute_reply": "2020-09-30T16:22:18.065352Z"
    },
    "papermill": {
     "duration": 0.110826,
     "end_time": "2020-09-30T16:22:18.066100",
     "exception": false,
     "start_time": "2020-09-30T16:22:17.955274",
     "status": "completed"
    },
    "tags": []
   },
   "outputs": [
    {
     "data": {
      "text/html": [
       "<div>\n",
       "<style scoped>\n",
       "    .dataframe tbody tr th:only-of-type {\n",
       "        vertical-align: middle;\n",
       "    }\n",
       "\n",
       "    .dataframe tbody tr th {\n",
       "        vertical-align: top;\n",
       "    }\n",
       "\n",
       "    .dataframe thead th {\n",
       "        text-align: right;\n",
       "    }\n",
       "</style>\n",
       "<table border=\"1\" class=\"dataframe\">\n",
       "  <thead>\n",
       "    <tr style=\"text-align: right;\">\n",
       "      <th></th>\n",
       "      <th>PassengerId</th>\n",
       "      <th>Pclass</th>\n",
       "      <th>Name</th>\n",
       "      <th>Sex</th>\n",
       "      <th>Age</th>\n",
       "      <th>SibSp</th>\n",
       "      <th>Parch</th>\n",
       "      <th>Ticket</th>\n",
       "      <th>Fare</th>\n",
       "      <th>Cabin</th>\n",
       "      <th>Embarked</th>\n",
       "      <th>title</th>\n",
       "      <th>family_size</th>\n",
       "    </tr>\n",
       "  </thead>\n",
       "  <tbody>\n",
       "    <tr>\n",
       "      <th>0</th>\n",
       "      <td>892</td>\n",
       "      <td>3</td>\n",
       "      <td>Kelly, Mr. James</td>\n",
       "      <td>male</td>\n",
       "      <td>34.5</td>\n",
       "      <td>0</td>\n",
       "      <td>0</td>\n",
       "      <td>330911</td>\n",
       "      <td>7.8292</td>\n",
       "      <td>NaN</td>\n",
       "      <td>Q</td>\n",
       "      <td>0</td>\n",
       "      <td>s</td>\n",
       "    </tr>\n",
       "    <tr>\n",
       "      <th>1</th>\n",
       "      <td>893</td>\n",
       "      <td>3</td>\n",
       "      <td>Wilkes, Mrs. James (Ellen Needs)</td>\n",
       "      <td>female</td>\n",
       "      <td>47.0</td>\n",
       "      <td>1</td>\n",
       "      <td>0</td>\n",
       "      <td>363272</td>\n",
       "      <td>7.0000</td>\n",
       "      <td>NaN</td>\n",
       "      <td>S</td>\n",
       "      <td>4</td>\n",
       "      <td>m</td>\n",
       "    </tr>\n",
       "    <tr>\n",
       "      <th>2</th>\n",
       "      <td>894</td>\n",
       "      <td>2</td>\n",
       "      <td>Myles, Mr. Thomas Francis</td>\n",
       "      <td>male</td>\n",
       "      <td>62.0</td>\n",
       "      <td>0</td>\n",
       "      <td>0</td>\n",
       "      <td>240276</td>\n",
       "      <td>9.6875</td>\n",
       "      <td>NaN</td>\n",
       "      <td>Q</td>\n",
       "      <td>0</td>\n",
       "      <td>s</td>\n",
       "    </tr>\n",
       "    <tr>\n",
       "      <th>3</th>\n",
       "      <td>895</td>\n",
       "      <td>3</td>\n",
       "      <td>Wirz, Mr. Albert</td>\n",
       "      <td>male</td>\n",
       "      <td>27.0</td>\n",
       "      <td>0</td>\n",
       "      <td>0</td>\n",
       "      <td>315154</td>\n",
       "      <td>8.6625</td>\n",
       "      <td>NaN</td>\n",
       "      <td>S</td>\n",
       "      <td>0</td>\n",
       "      <td>s</td>\n",
       "    </tr>\n",
       "    <tr>\n",
       "      <th>4</th>\n",
       "      <td>896</td>\n",
       "      <td>3</td>\n",
       "      <td>Hirvonen, Mrs. Alexander (Helga E Lindqvist)</td>\n",
       "      <td>female</td>\n",
       "      <td>22.0</td>\n",
       "      <td>1</td>\n",
       "      <td>1</td>\n",
       "      <td>3101298</td>\n",
       "      <td>12.2875</td>\n",
       "      <td>NaN</td>\n",
       "      <td>S</td>\n",
       "      <td>4</td>\n",
       "      <td>m</td>\n",
       "    </tr>\n",
       "  </tbody>\n",
       "</table>\n",
       "</div>"
      ],
      "text/plain": [
       "   PassengerId  Pclass                                          Name     Sex  \\\n",
       "0          892       3                              Kelly, Mr. James    male   \n",
       "1          893       3              Wilkes, Mrs. James (Ellen Needs)  female   \n",
       "2          894       2                     Myles, Mr. Thomas Francis    male   \n",
       "3          895       3                              Wirz, Mr. Albert    male   \n",
       "4          896       3  Hirvonen, Mrs. Alexander (Helga E Lindqvist)  female   \n",
       "\n",
       "    Age  SibSp  Parch   Ticket     Fare Cabin Embarked  title family_size  \n",
       "0  34.5      0      0   330911   7.8292   NaN        Q      0           s  \n",
       "1  47.0      1      0   363272   7.0000   NaN        S      4           m  \n",
       "2  62.0      0      0   240276   9.6875   NaN        Q      0           s  \n",
       "3  27.0      0      0   315154   8.6625   NaN        S      0           s  \n",
       "4  22.0      1      1  3101298  12.2875   NaN        S      4           m  "
      ]
     },
     "execution_count": 31,
     "metadata": {},
     "output_type": "execute_result"
    }
   ],
   "source": [
    "def bin_family_size(x):\n",
    "    if x>4:\n",
    "        return 'l'\n",
    "    elif x>1:\n",
    "        return 'm'\n",
    "    else :\n",
    "        return 's'\n",
    "    \n",
    "# TRAIN\n",
    "train_fe.loc[:, 'family_size'] = train_fe.loc[:, 'family_size'].apply(bin_family_size) \n",
    "\n",
    "# TEST\n",
    "test_fe['family_size'] = test_fe['SibSp'] + test_fe['Parch'] + 1\n",
    "test_fe.loc[:, 'family_size'] = test_fe.loc[:, 'family_size'].apply(bin_family_size) \n",
    "test_fe.head()"
   ]
  },
  {
   "cell_type": "code",
   "execution_count": 32,
   "metadata": {
    "execution": {
     "iopub.execute_input": "2020-09-30T16:22:18.241947Z",
     "iopub.status.busy": "2020-09-30T16:22:18.241215Z",
     "iopub.status.idle": "2020-09-30T16:22:18.345690Z",
     "shell.execute_reply": "2020-09-30T16:22:18.346261Z"
    },
    "papermill": {
     "duration": 0.196716,
     "end_time": "2020-09-30T16:22:18.346419",
     "exception": false,
     "start_time": "2020-09-30T16:22:18.149703",
     "status": "completed"
    },
    "tags": []
   },
   "outputs": [
    {
     "data": {
      "text/html": [
       "<div>\n",
       "<style scoped>\n",
       "    .dataframe tbody tr th:only-of-type {\n",
       "        vertical-align: middle;\n",
       "    }\n",
       "\n",
       "    .dataframe tbody tr th {\n",
       "        vertical-align: top;\n",
       "    }\n",
       "\n",
       "    .dataframe thead th {\n",
       "        text-align: right;\n",
       "    }\n",
       "</style>\n",
       "<table border=\"1\" class=\"dataframe\">\n",
       "  <thead>\n",
       "    <tr style=\"text-align: right;\">\n",
       "      <th></th>\n",
       "      <th>PassengerId</th>\n",
       "      <th>Pclass</th>\n",
       "      <th>Name</th>\n",
       "      <th>Sex</th>\n",
       "      <th>Age</th>\n",
       "      <th>SibSp</th>\n",
       "      <th>Parch</th>\n",
       "      <th>Ticket</th>\n",
       "      <th>Fare</th>\n",
       "      <th>Cabin</th>\n",
       "      <th>Embarked</th>\n",
       "      <th>title</th>\n",
       "      <th>0</th>\n",
       "      <th>1</th>\n",
       "      <th>2</th>\n",
       "    </tr>\n",
       "  </thead>\n",
       "  <tbody>\n",
       "    <tr>\n",
       "      <th>0</th>\n",
       "      <td>892</td>\n",
       "      <td>3</td>\n",
       "      <td>Kelly, Mr. James</td>\n",
       "      <td>male</td>\n",
       "      <td>34.5</td>\n",
       "      <td>0</td>\n",
       "      <td>0</td>\n",
       "      <td>330911</td>\n",
       "      <td>7.8292</td>\n",
       "      <td>NaN</td>\n",
       "      <td>Q</td>\n",
       "      <td>0</td>\n",
       "      <td>0.0</td>\n",
       "      <td>0.0</td>\n",
       "      <td>1.0</td>\n",
       "    </tr>\n",
       "    <tr>\n",
       "      <th>1</th>\n",
       "      <td>893</td>\n",
       "      <td>3</td>\n",
       "      <td>Wilkes, Mrs. James (Ellen Needs)</td>\n",
       "      <td>female</td>\n",
       "      <td>47.0</td>\n",
       "      <td>1</td>\n",
       "      <td>0</td>\n",
       "      <td>363272</td>\n",
       "      <td>7.0000</td>\n",
       "      <td>NaN</td>\n",
       "      <td>S</td>\n",
       "      <td>4</td>\n",
       "      <td>0.0</td>\n",
       "      <td>1.0</td>\n",
       "      <td>0.0</td>\n",
       "    </tr>\n",
       "    <tr>\n",
       "      <th>2</th>\n",
       "      <td>894</td>\n",
       "      <td>2</td>\n",
       "      <td>Myles, Mr. Thomas Francis</td>\n",
       "      <td>male</td>\n",
       "      <td>62.0</td>\n",
       "      <td>0</td>\n",
       "      <td>0</td>\n",
       "      <td>240276</td>\n",
       "      <td>9.6875</td>\n",
       "      <td>NaN</td>\n",
       "      <td>Q</td>\n",
       "      <td>0</td>\n",
       "      <td>0.0</td>\n",
       "      <td>0.0</td>\n",
       "      <td>1.0</td>\n",
       "    </tr>\n",
       "    <tr>\n",
       "      <th>3</th>\n",
       "      <td>895</td>\n",
       "      <td>3</td>\n",
       "      <td>Wirz, Mr. Albert</td>\n",
       "      <td>male</td>\n",
       "      <td>27.0</td>\n",
       "      <td>0</td>\n",
       "      <td>0</td>\n",
       "      <td>315154</td>\n",
       "      <td>8.6625</td>\n",
       "      <td>NaN</td>\n",
       "      <td>S</td>\n",
       "      <td>0</td>\n",
       "      <td>0.0</td>\n",
       "      <td>0.0</td>\n",
       "      <td>1.0</td>\n",
       "    </tr>\n",
       "    <tr>\n",
       "      <th>4</th>\n",
       "      <td>896</td>\n",
       "      <td>3</td>\n",
       "      <td>Hirvonen, Mrs. Alexander (Helga E Lindqvist)</td>\n",
       "      <td>female</td>\n",
       "      <td>22.0</td>\n",
       "      <td>1</td>\n",
       "      <td>1</td>\n",
       "      <td>3101298</td>\n",
       "      <td>12.2875</td>\n",
       "      <td>NaN</td>\n",
       "      <td>S</td>\n",
       "      <td>4</td>\n",
       "      <td>0.0</td>\n",
       "      <td>1.0</td>\n",
       "      <td>0.0</td>\n",
       "    </tr>\n",
       "  </tbody>\n",
       "</table>\n",
       "</div>"
      ],
      "text/plain": [
       "   PassengerId  Pclass                                          Name     Sex  \\\n",
       "0          892       3                              Kelly, Mr. James    male   \n",
       "1          893       3              Wilkes, Mrs. James (Ellen Needs)  female   \n",
       "2          894       2                     Myles, Mr. Thomas Francis    male   \n",
       "3          895       3                              Wirz, Mr. Albert    male   \n",
       "4          896       3  Hirvonen, Mrs. Alexander (Helga E Lindqvist)  female   \n",
       "\n",
       "    Age  SibSp  Parch   Ticket     Fare Cabin Embarked  title    0    1    2  \n",
       "0  34.5      0      0   330911   7.8292   NaN        Q      0  0.0  0.0  1.0  \n",
       "1  47.0      1      0   363272   7.0000   NaN        S      4  0.0  1.0  0.0  \n",
       "2  62.0      0      0   240276   9.6875   NaN        Q      0  0.0  0.0  1.0  \n",
       "3  27.0      0      0   315154   8.6625   NaN        S      0  0.0  0.0  1.0  \n",
       "4  22.0      1      1  3101298  12.2875   NaN        S      4  0.0  1.0  0.0  "
      ]
     },
     "execution_count": 32,
     "metadata": {},
     "output_type": "execute_result"
    }
   ],
   "source": [
    "from sklearn.preprocessing import OneHotEncoder\n",
    "# OneHotEncoding Family_size\n",
    "oh_family = OneHotEncoder(sparse=False)\n",
    "\n",
    "train_fam_code = pd.DataFrame(oh_family.fit_transform(train_fe['family_size'].values.reshape(-1,1)))\n",
    "test_fam_code = pd.DataFrame(oh_family.transform(test_fe['family_size'].values.reshape(-1,1)))\n",
    "\n",
    "train_fam_code.index = train_fe.index\n",
    "test_fam_code.index = test_fe.index\n",
    "\n",
    "train_fe = pd.concat([train_fe.drop('family_size', axis=1), train_fam_code], axis=1)\n",
    "test_fe = pd.concat([test_fe.drop('family_size', axis=1), test_fam_code], axis=1)\n",
    "test_fe.head()"
   ]
  },
  {
   "cell_type": "markdown",
   "metadata": {
    "papermill": {
     "duration": 0.078371,
     "end_time": "2020-09-30T16:22:18.504104",
     "exception": false,
     "start_time": "2020-09-30T16:22:18.425733",
     "status": "completed"
    },
    "tags": []
   },
   "source": [
    " > ## Cabin and ticket (cabin symbol, ticket num/not_num, cabin multiple)\n"
   ]
  },
  {
   "cell_type": "code",
   "execution_count": 33,
   "metadata": {
    "execution": {
     "iopub.execute_input": "2020-09-30T16:22:18.668914Z",
     "iopub.status.busy": "2020-09-30T16:22:18.667629Z",
     "iopub.status.idle": "2020-09-30T16:22:18.708413Z",
     "shell.execute_reply": "2020-09-30T16:22:18.708915Z"
    },
    "papermill": {
     "duration": 0.122626,
     "end_time": "2020-09-30T16:22:18.709076",
     "exception": false,
     "start_time": "2020-09-30T16:22:18.586450",
     "status": "completed"
    },
    "tags": []
   },
   "outputs": [
    {
     "name": "stdout",
     "output_type": "stream",
     "text": [
      "n    687\n",
      "C     59\n",
      "B     47\n",
      "D     33\n",
      "E     32\n",
      "A     15\n",
      "F     13\n",
      "G      4\n",
      "T      1\n",
      "Name: cabin_symbol, dtype: int64\n"
     ]
    },
    {
     "data": {
      "text/html": [
       "<div>\n",
       "<style scoped>\n",
       "    .dataframe tbody tr th:only-of-type {\n",
       "        vertical-align: middle;\n",
       "    }\n",
       "\n",
       "    .dataframe tbody tr th {\n",
       "        vertical-align: top;\n",
       "    }\n",
       "\n",
       "    .dataframe thead th {\n",
       "        text-align: right;\n",
       "    }\n",
       "</style>\n",
       "<table border=\"1\" class=\"dataframe\">\n",
       "  <thead>\n",
       "    <tr style=\"text-align: right;\">\n",
       "      <th>cabin_symbol</th>\n",
       "      <th>A</th>\n",
       "      <th>B</th>\n",
       "      <th>C</th>\n",
       "      <th>D</th>\n",
       "      <th>E</th>\n",
       "      <th>F</th>\n",
       "      <th>G</th>\n",
       "      <th>T</th>\n",
       "      <th>n</th>\n",
       "    </tr>\n",
       "    <tr>\n",
       "      <th>Survived</th>\n",
       "      <th></th>\n",
       "      <th></th>\n",
       "      <th></th>\n",
       "      <th></th>\n",
       "      <th></th>\n",
       "      <th></th>\n",
       "      <th></th>\n",
       "      <th></th>\n",
       "      <th></th>\n",
       "    </tr>\n",
       "  </thead>\n",
       "  <tbody>\n",
       "    <tr>\n",
       "      <th>0</th>\n",
       "      <td>8.0</td>\n",
       "      <td>12.0</td>\n",
       "      <td>24.0</td>\n",
       "      <td>8.0</td>\n",
       "      <td>8.0</td>\n",
       "      <td>5.0</td>\n",
       "      <td>2.0</td>\n",
       "      <td>1.0</td>\n",
       "      <td>481.0</td>\n",
       "    </tr>\n",
       "    <tr>\n",
       "      <th>1</th>\n",
       "      <td>7.0</td>\n",
       "      <td>35.0</td>\n",
       "      <td>35.0</td>\n",
       "      <td>25.0</td>\n",
       "      <td>24.0</td>\n",
       "      <td>8.0</td>\n",
       "      <td>2.0</td>\n",
       "      <td>NaN</td>\n",
       "      <td>206.0</td>\n",
       "    </tr>\n",
       "  </tbody>\n",
       "</table>\n",
       "</div>"
      ],
      "text/plain": [
       "cabin_symbol    A     B     C     D     E    F    G    T      n\n",
       "Survived                                                       \n",
       "0             8.0  12.0  24.0   8.0   8.0  5.0  2.0  1.0  481.0\n",
       "1             7.0  35.0  35.0  25.0  24.0  8.0  2.0  NaN  206.0"
      ]
     },
     "execution_count": 33,
     "metadata": {},
     "output_type": "execute_result"
    }
   ],
   "source": [
    "train_fe['cabin_symbol'] = train_fe['Cabin'].apply(lambda x: str(x)[0])\n",
    "test_fe['cabin_symbol'] = test_fe['Cabin'].apply(lambda x: str(x)[0])\n",
    "\n",
    "# Visualization\n",
    "print(train_fe['cabin_symbol'].value_counts())\n",
    "pd.pivot_table(train_fe, index='Survived', columns='cabin_symbol', values='PassengerId', aggfunc='count')"
   ]
  },
  {
   "cell_type": "code",
   "execution_count": 34,
   "metadata": {
    "execution": {
     "iopub.execute_input": "2020-09-30T16:22:18.968385Z",
     "iopub.status.busy": "2020-09-30T16:22:18.967250Z",
     "iopub.status.idle": "2020-09-30T16:22:19.006158Z",
     "shell.execute_reply": "2020-09-30T16:22:19.005559Z"
    },
    "papermill": {
     "duration": 0.168768,
     "end_time": "2020-09-30T16:22:19.006288",
     "exception": false,
     "start_time": "2020-09-30T16:22:18.837520",
     "status": "completed"
    },
    "tags": []
   },
   "outputs": [
    {
     "name": "stdout",
     "output_type": "stream",
     "text": [
      "cabin_symbol\n",
      "T    0.000000\n",
      "n    0.299854\n",
      "A    0.466667\n",
      "G    0.500000\n",
      "C    0.593220\n",
      "F    0.615385\n",
      "B    0.744681\n",
      "E    0.750000\n",
      "D    0.757576\n",
      "Name: Survived, dtype: float64\n"
     ]
    },
    {
     "data": {
      "text/html": [
       "<div>\n",
       "<style scoped>\n",
       "    .dataframe tbody tr th:only-of-type {\n",
       "        vertical-align: middle;\n",
       "    }\n",
       "\n",
       "    .dataframe tbody tr th {\n",
       "        vertical-align: top;\n",
       "    }\n",
       "\n",
       "    .dataframe thead th {\n",
       "        text-align: right;\n",
       "    }\n",
       "</style>\n",
       "<table border=\"1\" class=\"dataframe\">\n",
       "  <thead>\n",
       "    <tr style=\"text-align: right;\">\n",
       "      <th></th>\n",
       "      <th>PassengerId</th>\n",
       "      <th>Survived</th>\n",
       "      <th>Pclass</th>\n",
       "      <th>Name</th>\n",
       "      <th>Sex</th>\n",
       "      <th>Age</th>\n",
       "      <th>SibSp</th>\n",
       "      <th>Parch</th>\n",
       "      <th>Ticket</th>\n",
       "      <th>Fare</th>\n",
       "      <th>Cabin</th>\n",
       "      <th>Embarked</th>\n",
       "      <th>title</th>\n",
       "      <th>0</th>\n",
       "      <th>1</th>\n",
       "      <th>2</th>\n",
       "      <th>cabin_symbol</th>\n",
       "    </tr>\n",
       "  </thead>\n",
       "  <tbody>\n",
       "    <tr>\n",
       "      <th>0</th>\n",
       "      <td>1</td>\n",
       "      <td>0</td>\n",
       "      <td>3</td>\n",
       "      <td>Braund, Mr. Owen Harris</td>\n",
       "      <td>male</td>\n",
       "      <td>22.0</td>\n",
       "      <td>1</td>\n",
       "      <td>0</td>\n",
       "      <td>A/5 21171</td>\n",
       "      <td>7.2500</td>\n",
       "      <td>NaN</td>\n",
       "      <td>S</td>\n",
       "      <td>0</td>\n",
       "      <td>0.0</td>\n",
       "      <td>1.0</td>\n",
       "      <td>0.0</td>\n",
       "      <td>1</td>\n",
       "    </tr>\n",
       "    <tr>\n",
       "      <th>1</th>\n",
       "      <td>2</td>\n",
       "      <td>1</td>\n",
       "      <td>1</td>\n",
       "      <td>Cumings, Mrs. John Bradley (Florence Briggs Th...</td>\n",
       "      <td>female</td>\n",
       "      <td>38.0</td>\n",
       "      <td>1</td>\n",
       "      <td>0</td>\n",
       "      <td>PC 17599</td>\n",
       "      <td>71.2833</td>\n",
       "      <td>C85</td>\n",
       "      <td>C</td>\n",
       "      <td>4</td>\n",
       "      <td>0.0</td>\n",
       "      <td>1.0</td>\n",
       "      <td>0.0</td>\n",
       "      <td>4</td>\n",
       "    </tr>\n",
       "    <tr>\n",
       "      <th>2</th>\n",
       "      <td>3</td>\n",
       "      <td>1</td>\n",
       "      <td>3</td>\n",
       "      <td>Heikkinen, Miss. Laina</td>\n",
       "      <td>female</td>\n",
       "      <td>26.0</td>\n",
       "      <td>0</td>\n",
       "      <td>0</td>\n",
       "      <td>STON/O2. 3101282</td>\n",
       "      <td>7.9250</td>\n",
       "      <td>NaN</td>\n",
       "      <td>S</td>\n",
       "      <td>3</td>\n",
       "      <td>0.0</td>\n",
       "      <td>0.0</td>\n",
       "      <td>1.0</td>\n",
       "      <td>1</td>\n",
       "    </tr>\n",
       "    <tr>\n",
       "      <th>3</th>\n",
       "      <td>4</td>\n",
       "      <td>1</td>\n",
       "      <td>1</td>\n",
       "      <td>Futrelle, Mrs. Jacques Heath (Lily May Peel)</td>\n",
       "      <td>female</td>\n",
       "      <td>35.0</td>\n",
       "      <td>1</td>\n",
       "      <td>0</td>\n",
       "      <td>113803</td>\n",
       "      <td>53.1000</td>\n",
       "      <td>C123</td>\n",
       "      <td>S</td>\n",
       "      <td>4</td>\n",
       "      <td>0.0</td>\n",
       "      <td>1.0</td>\n",
       "      <td>0.0</td>\n",
       "      <td>4</td>\n",
       "    </tr>\n",
       "    <tr>\n",
       "      <th>4</th>\n",
       "      <td>5</td>\n",
       "      <td>0</td>\n",
       "      <td>3</td>\n",
       "      <td>Allen, Mr. William Henry</td>\n",
       "      <td>male</td>\n",
       "      <td>35.0</td>\n",
       "      <td>0</td>\n",
       "      <td>0</td>\n",
       "      <td>373450</td>\n",
       "      <td>8.0500</td>\n",
       "      <td>NaN</td>\n",
       "      <td>S</td>\n",
       "      <td>0</td>\n",
       "      <td>0.0</td>\n",
       "      <td>0.0</td>\n",
       "      <td>1.0</td>\n",
       "      <td>1</td>\n",
       "    </tr>\n",
       "  </tbody>\n",
       "</table>\n",
       "</div>"
      ],
      "text/plain": [
       "   PassengerId  Survived  Pclass  \\\n",
       "0            1         0       3   \n",
       "1            2         1       1   \n",
       "2            3         1       3   \n",
       "3            4         1       1   \n",
       "4            5         0       3   \n",
       "\n",
       "                                                Name     Sex   Age  SibSp  \\\n",
       "0                            Braund, Mr. Owen Harris    male  22.0      1   \n",
       "1  Cumings, Mrs. John Bradley (Florence Briggs Th...  female  38.0      1   \n",
       "2                             Heikkinen, Miss. Laina  female  26.0      0   \n",
       "3       Futrelle, Mrs. Jacques Heath (Lily May Peel)  female  35.0      1   \n",
       "4                           Allen, Mr. William Henry    male  35.0      0   \n",
       "\n",
       "   Parch            Ticket     Fare Cabin Embarked  title    0    1    2  \\\n",
       "0      0         A/5 21171   7.2500   NaN        S      0  0.0  1.0  0.0   \n",
       "1      0          PC 17599  71.2833   C85        C      4  0.0  1.0  0.0   \n",
       "2      0  STON/O2. 3101282   7.9250   NaN        S      3  0.0  0.0  1.0   \n",
       "3      0            113803  53.1000  C123        S      4  0.0  1.0  0.0   \n",
       "4      0            373450   8.0500   NaN        S      0  0.0  0.0  1.0   \n",
       "\n",
       "   cabin_symbol  \n",
       "0             1  \n",
       "1             4  \n",
       "2             1  \n",
       "3             4  \n",
       "4             1  "
      ]
     },
     "execution_count": 34,
     "metadata": {},
     "output_type": "execute_result"
    }
   ],
   "source": [
    "# Ordinal Encoding\n",
    "cab_codes = {'T': 0, 'n': 1, 'A': 2, 'G': 3, 'C': 4, 'F': 5, 'B': 6, 'E': 7, 'D': 8}\n",
    "\n",
    "print(train_fe.groupby('cabin_symbol')['Survived'].mean().sort_values())\n",
    "train_fe['cabin_symbol'] = train_fe['cabin_symbol'].map(cab_codes)\n",
    "test_fe['cabin_symbol'] = test_fe['cabin_symbol'].map(cab_codes)\n",
    "train_fe.head()"
   ]
  },
  {
   "cell_type": "code",
   "execution_count": 35,
   "metadata": {
    "execution": {
     "iopub.execute_input": "2020-09-30T16:22:19.194163Z",
     "iopub.status.busy": "2020-09-30T16:22:19.190420Z",
     "iopub.status.idle": "2020-09-30T16:22:19.218983Z",
     "shell.execute_reply": "2020-09-30T16:22:19.219910Z"
    },
    "papermill": {
     "duration": 0.131501,
     "end_time": "2020-09-30T16:22:19.220115",
     "exception": false,
     "start_time": "2020-09-30T16:22:19.088614",
     "status": "completed"
    },
    "tags": []
   },
   "outputs": [
    {
     "name": "stdout",
     "output_type": "stream",
     "text": [
      "1    661\n",
      "0    230\n",
      "Name: num_ticket, dtype: int64\n"
     ]
    },
    {
     "data": {
      "text/html": [
       "<div>\n",
       "<style scoped>\n",
       "    .dataframe tbody tr th:only-of-type {\n",
       "        vertical-align: middle;\n",
       "    }\n",
       "\n",
       "    .dataframe tbody tr th {\n",
       "        vertical-align: top;\n",
       "    }\n",
       "\n",
       "    .dataframe thead th {\n",
       "        text-align: right;\n",
       "    }\n",
       "</style>\n",
       "<table border=\"1\" class=\"dataframe\">\n",
       "  <thead>\n",
       "    <tr style=\"text-align: right;\">\n",
       "      <th>num_ticket</th>\n",
       "      <th>0</th>\n",
       "      <th>1</th>\n",
       "    </tr>\n",
       "    <tr>\n",
       "      <th>Survived</th>\n",
       "      <th></th>\n",
       "      <th></th>\n",
       "    </tr>\n",
       "  </thead>\n",
       "  <tbody>\n",
       "    <tr>\n",
       "      <th>0</th>\n",
       "      <td>142</td>\n",
       "      <td>407</td>\n",
       "    </tr>\n",
       "    <tr>\n",
       "      <th>1</th>\n",
       "      <td>88</td>\n",
       "      <td>254</td>\n",
       "    </tr>\n",
       "  </tbody>\n",
       "</table>\n",
       "</div>"
      ],
      "text/plain": [
       "num_ticket    0    1\n",
       "Survived            \n",
       "0           142  407\n",
       "1            88  254"
      ]
     },
     "execution_count": 35,
     "metadata": {},
     "output_type": "execute_result"
    }
   ],
   "source": [
    "train_fe['num_ticket'] = train_fe['Ticket'].apply(lambda x: 1 if x.isnumeric() else 0)\n",
    "test_fe['num_ticket'] = test_fe['Ticket'].apply(lambda x: 1 if x.isnumeric() else 0)\n",
    "\n",
    "# Visualization\n",
    "print(train_fe['num_ticket'].value_counts())\n",
    "pd.pivot_table(train_fe, index='Survived', columns='num_ticket', values='PassengerId', aggfunc='count')"
   ]
  },
  {
   "cell_type": "code",
   "execution_count": 36,
   "metadata": {
    "execution": {
     "iopub.execute_input": "2020-09-30T16:22:19.415282Z",
     "iopub.status.busy": "2020-09-30T16:22:19.412766Z",
     "iopub.status.idle": "2020-09-30T16:22:19.435786Z",
     "shell.execute_reply": "2020-09-30T16:22:19.435233Z"
    },
    "papermill": {
     "duration": 0.128868,
     "end_time": "2020-09-30T16:22:19.435929",
     "exception": false,
     "start_time": "2020-09-30T16:22:19.307061",
     "status": "completed"
    },
    "tags": []
   },
   "outputs": [
    {
     "data": {
      "text/html": [
       "<div>\n",
       "<style scoped>\n",
       "    .dataframe tbody tr th:only-of-type {\n",
       "        vertical-align: middle;\n",
       "    }\n",
       "\n",
       "    .dataframe tbody tr th {\n",
       "        vertical-align: top;\n",
       "    }\n",
       "\n",
       "    .dataframe thead th {\n",
       "        text-align: right;\n",
       "    }\n",
       "</style>\n",
       "<table border=\"1\" class=\"dataframe\">\n",
       "  <thead>\n",
       "    <tr style=\"text-align: right;\">\n",
       "      <th>numberof_cabin</th>\n",
       "      <th>0</th>\n",
       "      <th>1</th>\n",
       "      <th>2</th>\n",
       "      <th>3</th>\n",
       "      <th>4</th>\n",
       "    </tr>\n",
       "    <tr>\n",
       "      <th>Survived</th>\n",
       "      <th></th>\n",
       "      <th></th>\n",
       "      <th></th>\n",
       "      <th></th>\n",
       "      <th></th>\n",
       "    </tr>\n",
       "  </thead>\n",
       "  <tbody>\n",
       "    <tr>\n",
       "      <th>0</th>\n",
       "      <td>481.0</td>\n",
       "      <td>58.0</td>\n",
       "      <td>7.0</td>\n",
       "      <td>3.0</td>\n",
       "      <td>NaN</td>\n",
       "    </tr>\n",
       "    <tr>\n",
       "      <th>1</th>\n",
       "      <td>206.0</td>\n",
       "      <td>122.0</td>\n",
       "      <td>9.0</td>\n",
       "      <td>3.0</td>\n",
       "      <td>2.0</td>\n",
       "    </tr>\n",
       "  </tbody>\n",
       "</table>\n",
       "</div>"
      ],
      "text/plain": [
       "numberof_cabin      0      1    2    3    4\n",
       "Survived                                   \n",
       "0               481.0   58.0  7.0  3.0  NaN\n",
       "1               206.0  122.0  9.0  3.0  2.0"
      ]
     },
     "execution_count": 36,
     "metadata": {},
     "output_type": "execute_result"
    }
   ],
   "source": [
    "train_fe['numberof_cabin'] = train_fe['Cabin'].apply(lambda x: len(x.split()) if pd.notnull(x) else 0)\n",
    "test_fe['numberof_cabin'] = test_fe['Cabin'].apply(lambda x: len(x.split()) if pd.notnull(x) else 0)\n",
    "\n",
    "# Visualization\n",
    "pd.pivot_table(train_fe, index='Survived', columns='numberof_cabin', values='PassengerId', aggfunc='count')"
   ]
  },
  {
   "cell_type": "markdown",
   "metadata": {
    "papermill": {
     "duration": 0.087655,
     "end_time": "2020-09-30T16:22:19.606153",
     "exception": false,
     "start_time": "2020-09-30T16:22:19.518498",
     "status": "completed"
    },
    "tags": []
   },
   "source": [
    "# Modeling"
   ]
  },
  {
   "cell_type": "code",
   "execution_count": 37,
   "metadata": {
    "execution": {
     "iopub.execute_input": "2020-09-30T16:22:19.783607Z",
     "iopub.status.busy": "2020-09-30T16:22:19.782767Z",
     "iopub.status.idle": "2020-09-30T16:22:20.972963Z",
     "shell.execute_reply": "2020-09-30T16:22:20.972359Z"
    },
    "papermill": {
     "duration": 1.284574,
     "end_time": "2020-09-30T16:22:20.973118",
     "exception": false,
     "start_time": "2020-09-30T16:22:19.688544",
     "status": "completed"
    },
    "tags": []
   },
   "outputs": [],
   "source": [
    "from sklearn.model_selection import cross_val_score, train_test_split, GridSearchCV, RandomizedSearchCV\n",
    "from sklearn.metrics import classification_report, confusion_matrix, accuracy_score\n",
    "from sklearn.pipeline import Pipeline\n",
    "from sklearn.preprocessing import FunctionTransformer, OneHotEncoder, StandardScaler\n",
    "from sklearn.impute import SimpleImputer\n",
    "from sklearn.compose import ColumnTransformer\n",
    "from sklearn.base import BaseEstimator\n",
    "\n",
    "\n",
    "# Models\n",
    "from sklearn.linear_model import LogisticRegression\n",
    "from sklearn.ensemble import RandomForestClassifier\n",
    "from xgboost import XGBClassifier\n",
    "from sklearn.svm import SVC\n",
    "from sklearn.neighbors import KNeighborsClassifier"
   ]
  },
  {
   "cell_type": "markdown",
   "metadata": {
    "papermill": {
     "duration": 0.085791,
     "end_time": "2020-09-30T16:22:21.141388",
     "exception": false,
     "start_time": "2020-09-30T16:22:21.055597",
     "status": "completed"
    },
    "tags": []
   },
   "source": [
    "### Helper Functions"
   ]
  },
  {
   "cell_type": "code",
   "execution_count": 38,
   "metadata": {
    "execution": {
     "iopub.execute_input": "2020-09-30T16:22:21.322790Z",
     "iopub.status.busy": "2020-09-30T16:22:21.321755Z",
     "iopub.status.idle": "2020-09-30T16:22:21.325443Z",
     "shell.execute_reply": "2020-09-30T16:22:21.324867Z"
    },
    "papermill": {
     "duration": 0.096874,
     "end_time": "2020-09-30T16:22:21.325562",
     "exception": false,
     "start_time": "2020-09-30T16:22:21.228688",
     "status": "completed"
    },
    "tags": []
   },
   "outputs": [],
   "source": [
    "def impute_age(X):\n",
    "    # Collecting averages based on Pclass\n",
    "    means_pclass = [m for m in X.groupby('Pclass')['Age'].mean().round(1)]\n",
    "    # Iterate through rows\n",
    "    for idx, row in X.iterrows():\n",
    "        # If Age is null the fill with adequate mean\n",
    "        if pd.isnull(row.Age):\n",
    "            if row.Pclass == 1:\n",
    "                X.loc[idx, 'Age'] = means_pclass[0] \n",
    "            elif row.Pclass == 2:\n",
    "                X.loc[idx, 'Age'] = means_pclass[1]\n",
    "            else :\n",
    "                X.loc[idx, 'Age'] = means_pclass[2]    \n",
    "    return X"
   ]
  },
  {
   "cell_type": "code",
   "execution_count": 39,
   "metadata": {
    "execution": {
     "iopub.execute_input": "2020-09-30T16:22:21.500369Z",
     "iopub.status.busy": "2020-09-30T16:22:21.499443Z",
     "iopub.status.idle": "2020-09-30T16:22:21.502647Z",
     "shell.execute_reply": "2020-09-30T16:22:21.503230Z"
    },
    "papermill": {
     "duration": 0.094128,
     "end_time": "2020-09-30T16:22:21.503411",
     "exception": false,
     "start_time": "2020-09-30T16:22:21.409283",
     "status": "completed"
    },
    "tags": []
   },
   "outputs": [],
   "source": [
    "def impute_fare(X):\n",
    "    # Collecting averages based on Pclass\n",
    "    means_pclass = [m for m in X.groupby('Pclass')['Fare'].mean().round(2)]\n",
    "    # Iterate through rows\n",
    "    for idx, row in X.iterrows():\n",
    "        # If Fare is null the fill with adequate mean\n",
    "        if pd.isnull(row.Fare):\n",
    "            if row.Pclass == 1:\n",
    "                X.loc[idx, 'Fare'] = means_pclass[0] \n",
    "            elif row.Pclass == 2:\n",
    "                X.loc[idx, 'Fare'] = means_pclass[1]\n",
    "            else :\n",
    "                X.loc[idx, 'Fare'] = means_pclass[2]    \n",
    "    return X"
   ]
  },
  {
   "cell_type": "code",
   "execution_count": 40,
   "metadata": {
    "execution": {
     "iopub.execute_input": "2020-09-30T16:22:21.675116Z",
     "iopub.status.busy": "2020-09-30T16:22:21.674081Z",
     "iopub.status.idle": "2020-09-30T16:22:21.677833Z",
     "shell.execute_reply": "2020-09-30T16:22:21.677135Z"
    },
    "papermill": {
     "duration": 0.091698,
     "end_time": "2020-09-30T16:22:21.677950",
     "exception": false,
     "start_time": "2020-09-30T16:22:21.586252",
     "status": "completed"
    },
    "tags": []
   },
   "outputs": [],
   "source": [
    "def log_fare(X):\n",
    "    X['Fare'] = np.log1p(X['Fare'])\n",
    "    return X"
   ]
  },
  {
   "cell_type": "code",
   "execution_count": 41,
   "metadata": {
    "execution": {
     "iopub.execute_input": "2020-09-30T16:22:21.872746Z",
     "iopub.status.busy": "2020-09-30T16:22:21.871410Z",
     "iopub.status.idle": "2020-09-30T16:22:21.874071Z",
     "shell.execute_reply": "2020-09-30T16:22:21.873496Z"
    },
    "papermill": {
     "duration": 0.110519,
     "end_time": "2020-09-30T16:22:21.874191",
     "exception": false,
     "start_time": "2020-09-30T16:22:21.763672",
     "status": "completed"
    },
    "tags": []
   },
   "outputs": [],
   "source": [
    "# # Creating ClfSwitcher for Estimators \n",
    "# class ClfSwitcher(BaseEstimator):\n",
    "#     def __init__(self, estimator=XGBClassifier(n_estimators=450, learning_rate=0.01)):\n",
    "#         self.estimator = estimator\n",
    "        \n",
    "#     def fit(self, X, y=None, **kwargs):\n",
    "#         self.estimator.fit(X,y)\n",
    "#         return self\n",
    "    \n",
    "#     def predict(self, X, y=None):\n",
    "#         return self.estimator.predict(X)\n",
    "    \n",
    "#     def score(self, X, y):\n",
    "#         return self.estimator.score(X, y)"
   ]
  },
  {
   "cell_type": "code",
   "execution_count": 42,
   "metadata": {
    "execution": {
     "iopub.execute_input": "2020-09-30T16:22:22.054356Z",
     "iopub.status.busy": "2020-09-30T16:22:22.053284Z",
     "iopub.status.idle": "2020-09-30T16:22:22.056624Z",
     "shell.execute_reply": "2020-09-30T16:22:22.055981Z"
    },
    "papermill": {
     "duration": 0.09393,
     "end_time": "2020-09-30T16:22:22.056754",
     "exception": false,
     "start_time": "2020-09-30T16:22:21.962824",
     "status": "completed"
    },
    "tags": []
   },
   "outputs": [],
   "source": [
    "def cv_raport(workflow_name, score):\n",
    "    print(workflow_name, ':')\n",
    "    print('Mean Accuracy Score :', score.mean())\n",
    "    print()"
   ]
  },
  {
   "cell_type": "code",
   "execution_count": 43,
   "metadata": {
    "execution": {
     "iopub.execute_input": "2020-09-30T16:22:22.230164Z",
     "iopub.status.busy": "2020-09-30T16:22:22.229417Z",
     "iopub.status.idle": "2020-09-30T16:22:22.232913Z",
     "shell.execute_reply": "2020-09-30T16:22:22.232317Z"
    },
    "papermill": {
     "duration": 0.093729,
     "end_time": "2020-09-30T16:22:22.233043",
     "exception": false,
     "start_time": "2020-09-30T16:22:22.139314",
     "status": "completed"
    },
    "tags": []
   },
   "outputs": [],
   "source": [
    "def gridcv_raport(workflow_name, grid):\n",
    "    print(workflow_name, ':')\n",
    "    print('Best Score :', grid.best_score_)\n",
    "    print('Best Parameters :', grid.best_params_)\n",
    "    print()"
   ]
  },
  {
   "cell_type": "markdown",
   "metadata": {
    "papermill": {
     "duration": 0.084282,
     "end_time": "2020-09-30T16:22:22.404651",
     "exception": false,
     "start_time": "2020-09-30T16:22:22.320369",
     "status": "completed"
    },
    "tags": []
   },
   "source": [
    "## Workflow"
   ]
  },
  {
   "cell_type": "code",
   "execution_count": 44,
   "metadata": {
    "execution": {
     "iopub.execute_input": "2020-09-30T16:22:22.582302Z",
     "iopub.status.busy": "2020-09-30T16:22:22.581139Z",
     "iopub.status.idle": "2020-09-30T16:22:22.600928Z",
     "shell.execute_reply": "2020-09-30T16:22:22.601435Z"
    },
    "papermill": {
     "duration": 0.113814,
     "end_time": "2020-09-30T16:22:22.601595",
     "exception": false,
     "start_time": "2020-09-30T16:22:22.487781",
     "status": "completed"
    },
    "tags": []
   },
   "outputs": [
    {
     "data": {
      "text/html": [
       "<div>\n",
       "<style scoped>\n",
       "    .dataframe tbody tr th:only-of-type {\n",
       "        vertical-align: middle;\n",
       "    }\n",
       "\n",
       "    .dataframe tbody tr th {\n",
       "        vertical-align: top;\n",
       "    }\n",
       "\n",
       "    .dataframe thead th {\n",
       "        text-align: right;\n",
       "    }\n",
       "</style>\n",
       "<table border=\"1\" class=\"dataframe\">\n",
       "  <thead>\n",
       "    <tr style=\"text-align: right;\">\n",
       "      <th></th>\n",
       "      <th>Pclass</th>\n",
       "      <th>Sex</th>\n",
       "      <th>Age</th>\n",
       "      <th>Fare</th>\n",
       "      <th>Embarked</th>\n",
       "      <th>title</th>\n",
       "      <th>0</th>\n",
       "      <th>1</th>\n",
       "      <th>2</th>\n",
       "      <th>cabin_symbol</th>\n",
       "      <th>numberof_cabin</th>\n",
       "    </tr>\n",
       "  </thead>\n",
       "  <tbody>\n",
       "    <tr>\n",
       "      <th>0</th>\n",
       "      <td>3</td>\n",
       "      <td>male</td>\n",
       "      <td>22.0</td>\n",
       "      <td>7.2500</td>\n",
       "      <td>S</td>\n",
       "      <td>0</td>\n",
       "      <td>0.0</td>\n",
       "      <td>1.0</td>\n",
       "      <td>0.0</td>\n",
       "      <td>1</td>\n",
       "      <td>0</td>\n",
       "    </tr>\n",
       "    <tr>\n",
       "      <th>1</th>\n",
       "      <td>1</td>\n",
       "      <td>female</td>\n",
       "      <td>38.0</td>\n",
       "      <td>71.2833</td>\n",
       "      <td>C</td>\n",
       "      <td>4</td>\n",
       "      <td>0.0</td>\n",
       "      <td>1.0</td>\n",
       "      <td>0.0</td>\n",
       "      <td>4</td>\n",
       "      <td>1</td>\n",
       "    </tr>\n",
       "    <tr>\n",
       "      <th>2</th>\n",
       "      <td>3</td>\n",
       "      <td>female</td>\n",
       "      <td>26.0</td>\n",
       "      <td>7.9250</td>\n",
       "      <td>S</td>\n",
       "      <td>3</td>\n",
       "      <td>0.0</td>\n",
       "      <td>0.0</td>\n",
       "      <td>1.0</td>\n",
       "      <td>1</td>\n",
       "      <td>0</td>\n",
       "    </tr>\n",
       "    <tr>\n",
       "      <th>3</th>\n",
       "      <td>1</td>\n",
       "      <td>female</td>\n",
       "      <td>35.0</td>\n",
       "      <td>53.1000</td>\n",
       "      <td>S</td>\n",
       "      <td>4</td>\n",
       "      <td>0.0</td>\n",
       "      <td>1.0</td>\n",
       "      <td>0.0</td>\n",
       "      <td>4</td>\n",
       "      <td>1</td>\n",
       "    </tr>\n",
       "    <tr>\n",
       "      <th>4</th>\n",
       "      <td>3</td>\n",
       "      <td>male</td>\n",
       "      <td>35.0</td>\n",
       "      <td>8.0500</td>\n",
       "      <td>S</td>\n",
       "      <td>0</td>\n",
       "      <td>0.0</td>\n",
       "      <td>0.0</td>\n",
       "      <td>1.0</td>\n",
       "      <td>1</td>\n",
       "      <td>0</td>\n",
       "    </tr>\n",
       "  </tbody>\n",
       "</table>\n",
       "</div>"
      ],
      "text/plain": [
       "   Pclass     Sex   Age     Fare Embarked  title    0    1    2  cabin_symbol  \\\n",
       "0       3    male  22.0   7.2500        S      0  0.0  1.0  0.0             1   \n",
       "1       1  female  38.0  71.2833        C      4  0.0  1.0  0.0             4   \n",
       "2       3  female  26.0   7.9250        S      3  0.0  0.0  1.0             1   \n",
       "3       1  female  35.0  53.1000        S      4  0.0  1.0  0.0             4   \n",
       "4       3    male  35.0   8.0500        S      0  0.0  0.0  1.0             1   \n",
       "\n",
       "   numberof_cabin  \n",
       "0               0  \n",
       "1               1  \n",
       "2               0  \n",
       "3               1  \n",
       "4               0  "
      ]
     },
     "execution_count": 44,
     "metadata": {},
     "output_type": "execute_result"
    }
   ],
   "source": [
    "feed = train_fe.copy()\n",
    "\n",
    "# Drop outliers\n",
    "feed = feed.drop(feed.loc[feed['Fare']>250].index)\n",
    "\n",
    "X = feed.drop(['PassengerId', 'Survived', 'Cabin', 'Name', 'Ticket','SibSp', 'Parch', 'num_ticket'], axis=1).copy()\n",
    "y = feed.Survived\n",
    "# not used from feature engineering : num_ticket\n",
    "X.head()"
   ]
  },
  {
   "cell_type": "code",
   "execution_count": 45,
   "metadata": {
    "execution": {
     "iopub.execute_input": "2020-09-30T16:22:22.796305Z",
     "iopub.status.busy": "2020-09-30T16:22:22.785690Z",
     "iopub.status.idle": "2020-09-30T16:22:24.398935Z",
     "shell.execute_reply": "2020-09-30T16:22:24.397159Z"
    },
    "papermill": {
     "duration": 1.714087,
     "end_time": "2020-09-30T16:22:24.399085",
     "exception": false,
     "start_time": "2020-09-30T16:22:22.684998",
     "status": "completed"
    },
    "tags": []
   },
   "outputs": [
    {
     "name": "stdout",
     "output_type": "stream",
     "text": [
      "      0    1     2         3    4    5    6    7    8    9    10   11\n",
      "0    0.0  1.0  22.0  2.110213  3.0  1.0  0.0  0.0  1.0  0.0  1.0  0.0\n",
      "1    0.0  0.0  38.0  4.280593  1.0  0.0  4.0  0.0  1.0  0.0  4.0  1.0\n",
      "2    0.0  1.0  26.0  2.188856  3.0  0.0  3.0  0.0  0.0  1.0  1.0  0.0\n",
      "3    0.0  1.0  35.0  3.990834  1.0  0.0  4.0  0.0  1.0  0.0  4.0  1.0\n",
      "4    0.0  1.0  35.0  2.202765  3.0  1.0  0.0  0.0  0.0  1.0  1.0  0.0\n",
      "..   ...  ...   ...       ...  ...  ...  ...  ...  ...  ...  ...  ...\n",
      "877  0.0  1.0  27.0  2.639057  2.0  1.0  1.0  0.0  0.0  1.0  1.0  0.0\n",
      "878  0.0  1.0  19.0  3.433987  1.0  0.0  3.0  0.0  0.0  1.0  6.0  1.0\n",
      "879  0.0  1.0  25.1  3.196630  3.0  0.0  3.0  0.0  1.0  0.0  1.0  0.0\n",
      "880  0.0  0.0  26.0  3.433987  1.0  1.0  0.0  0.0  0.0  1.0  4.0  1.0\n",
      "881  1.0  0.0  32.0  2.169054  3.0  1.0  0.0  0.0  0.0  1.0  1.0  0.0\n",
      "\n",
      "[882 rows x 12 columns]\n"
     ]
    }
   ],
   "source": [
    "# Impute Age and Fare based on Pclass, Log1p Fare\n",
    "pipe_helper1 = Pipeline([\n",
    "    ('impute_age', FunctionTransformer(impute_age)),\n",
    "    ('impute_fare', FunctionTransformer(impute_fare)),\n",
    "    #('categorize_age', FunctionTransformer(bin_age))\n",
    "    ('log1p_fare', FunctionTransformer(log_fare)),\n",
    "])\n",
    "\n",
    "embark_preprocess = Pipeline([\n",
    "    ('impute', SimpleImputer(strategy='most_frequent')),\n",
    "    ('oh_encode', OneHotEncoder(sparse=False, drop='first'))\n",
    "])\n",
    "\n",
    "preprocessor = ColumnTransformer(transformers=[\n",
    "    ('embark', embark_preprocess, ['Embarked']),\n",
    "    ('helper1', pipe_helper1, ['Age', 'Fare', 'Pclass']),\n",
    "    ('oh_sex', OneHotEncoder(drop='first', sparse=False), ['Sex']),\n",
    "], remainder='passthrough')\n",
    "\n",
    "\n",
    "#---------------- Workflows ----------------\n",
    "XGB_workflow = Pipeline([\n",
    "    ('preprocessor', preprocessor),\n",
    "    ('clf', XGBClassifier())#n_estimators=450, learning_rate=0.01))\n",
    "])\n",
    "\n",
    "RndFor_workflow = Pipeline([\n",
    "    ('preprocessor', preprocessor),\n",
    "    ('clf', RandomForestClassifier())\n",
    "])\n",
    "\n",
    "SVC_workflow = Pipeline([\n",
    "    ('preprocessor', preprocessor),\n",
    "    ('scaling', StandardScaler()),\n",
    "    ('clf', SVC())\n",
    "])\n",
    "\n",
    "LogReg_workflow = Pipeline([\n",
    "    ('preprocessor', preprocessor),\n",
    "    ('scaling', StandardScaler()),\n",
    "    ('clf', LogisticRegression())\n",
    "])\n",
    "\n",
    "Knn_workflow = Pipeline([\n",
    "    ('preprocessor', preprocessor),\n",
    "    ('scaling', StandardScaler()),\n",
    "    ('clf', KNeighborsClassifier())\n",
    "])\n",
    "\n",
    "#---------------- Fit the pipelines ----------------\n",
    "XGB_workflow.fit(X, y)\n",
    "RndFor_workflow.fit(X, y)\n",
    "SVC_workflow.fit(X, y)\n",
    "LogReg_workflow.fit(X, y)\n",
    "Knn_workflow.fit(X, y)\n",
    "\n",
    "\n",
    "# How data looks after transformations\n",
    "transformed_X = pd.DataFrame(preprocessor.fit_transform(X))\n",
    "print(transformed_X)"
   ]
  },
  {
   "cell_type": "markdown",
   "metadata": {
    "papermill": {
     "duration": 0.083065,
     "end_time": "2020-09-30T16:22:24.566124",
     "exception": false,
     "start_time": "2020-09-30T16:22:24.483059",
     "status": "completed"
    },
    "tags": []
   },
   "source": [
    "> > # Not tuned Models performance"
   ]
  },
  {
   "cell_type": "code",
   "execution_count": 46,
   "metadata": {
    "execution": {
     "iopub.execute_input": "2020-09-30T16:22:24.753996Z",
     "iopub.status.busy": "2020-09-30T16:22:24.752849Z",
     "iopub.status.idle": "2020-09-30T16:22:32.191379Z",
     "shell.execute_reply": "2020-09-30T16:22:32.191957Z"
    },
    "papermill": {
     "duration": 7.541002,
     "end_time": "2020-09-30T16:22:32.192107",
     "exception": false,
     "start_time": "2020-09-30T16:22:24.651105",
     "status": "completed"
    },
    "tags": []
   },
   "outputs": [
    {
     "name": "stdout",
     "output_type": "stream",
     "text": [
      "XGB :\n",
      "Mean Accuracy Score : 0.8174563430919364\n",
      "\n",
      "RandomForest :\n",
      "Mean Accuracy Score : 0.8231574216743708\n",
      "\n",
      "SVC :\n",
      "Mean Accuracy Score : 0.8287942989214174\n",
      "\n",
      "LogisticRegression :\n",
      "Mean Accuracy Score : 0.8276643554185927\n",
      "\n",
      "KNN :\n",
      "Mean Accuracy Score : 0.822027478171546\n",
      "\n"
     ]
    }
   ],
   "source": [
    "# Performance Reports\n",
    "cv_raport('XGB', cross_val_score(XGB_workflow, X, y, cv=5, scoring='accuracy'))\n",
    "cv_raport('RandomForest', cross_val_score(RndFor_workflow, X, y, cv=5, scoring='accuracy'))\n",
    "cv_raport('SVC', cross_val_score(SVC_workflow, X, y, cv=5, scoring='accuracy'))\n",
    "cv_raport('LogisticRegression', cross_val_score(LogReg_workflow, X, y, cv=5, scoring='accuracy'))\n",
    "cv_raport('KNN', cross_val_score(Knn_workflow, X, y, cv=5, scoring='accuracy'))"
   ]
  },
  {
   "cell_type": "code",
   "execution_count": 47,
   "metadata": {
    "execution": {
     "iopub.execute_input": "2020-09-30T16:22:32.403156Z",
     "iopub.status.busy": "2020-09-30T16:22:32.395110Z",
     "iopub.status.idle": "2020-09-30T16:22:33.222434Z",
     "shell.execute_reply": "2020-09-30T16:22:33.221832Z"
    },
    "papermill": {
     "duration": 0.937386,
     "end_time": "2020-09-30T16:22:33.222554",
     "exception": false,
     "start_time": "2020-09-30T16:22:32.285168",
     "status": "completed"
    },
    "tags": []
   },
   "outputs": [
    {
     "data": {
      "image/png": "[encoded data removed]",
      "text/plain": [
       "<Figure size 1008x288 with 2 Axes>"
      ]
     },
     "metadata": {
      "needs_background": "light"
     },
     "output_type": "display_data"
    }
   ],
   "source": [
    "idxs = ['embark_2', 'embark_3', 'Age', 'log_Fare', 'Pclass', 'Sex', 'Title', 'Fam_size_1', 'Fam_size_2', 'Fam_size_3', 'cabin_symbol', 'num_of_cabins']\n",
    "fig, (ax1, ax2) = plt.subplots(1,2, figsize=(14,4))\n",
    "pd.Series(XGB_workflow['clf'].feature_importances_, index=idxs).nlargest(20).plot(kind='barh', ax=ax1, title='XGB importances')\n",
    "pd.Series(RndFor_workflow['clf'].feature_importances_, index=idxs).nlargest(20).plot(kind='barh', ax=ax2, title='RandomForest importances')\n",
    "plt.tight_layout()"
   ]
  },
  {
   "cell_type": "markdown",
   "metadata": {
    "papermill": {
     "duration": 0.086724,
     "end_time": "2020-09-30T16:22:33.399833",
     "exception": false,
     "start_time": "2020-09-30T16:22:33.313109",
     "status": "completed"
    },
    "tags": []
   },
   "source": [
    "> ## Tuning models"
   ]
  },
  {
   "cell_type": "code",
   "execution_count": 48,
   "metadata": {
    "execution": {
     "iopub.execute_input": "2020-09-30T16:22:33.603357Z",
     "iopub.status.busy": "2020-09-30T16:22:33.587556Z",
     "iopub.status.idle": "2020-09-30T16:22:33.607236Z",
     "shell.execute_reply": "2020-09-30T16:22:33.606598Z"
    },
    "papermill": {
     "duration": 0.11851,
     "end_time": "2020-09-30T16:22:33.607363",
     "exception": false,
     "start_time": "2020-09-30T16:22:33.488853",
     "status": "completed"
    },
    "tags": []
   },
   "outputs": [],
   "source": [
    "params = {\n",
    "    'XGB': {\n",
    "        'clf__n_estimators': [30, 70, 120, 250, 350, 500, 600],\n",
    "        'clf__reg_alpha': [0, 0.5, 1, 2],\n",
    "        'clf__reg_lambda': [1, 1.5, 2],\n",
    "        'clf__learning_rate': [0.005, 0.01, 0.07, 0.1, 0.4],\n",
    "        'clf__sampling_method': ['uniform', 'gradient_based'],\n",
    "        'clf__subsample': [0.5, 0.6, 0.7, 0.8],\n",
    "        'clf__gamma': [0.01, 0.1, 0.2, 0.4, 0.6],\n",
    "        'clf__max_depth': [2, 3, 4, 10, 20, 30, None],\n",
    "        'clf__min_child_weight': [0, 0.01, 0.1, 1, 10, 100]\n",
    "    },\n",
    "    'RndFor': {\n",
    "        'clf__n_estimators': [100, 200, 250, 300, 350],\n",
    "        'clf__bootstrap': [True, False],\n",
    "        'clf__max_depth': [3, 4, 10, 20, 50, 75, None],\n",
    "        'clf__max_features': ['auto', 'sqrt'],\n",
    "        'clf__min_samples_leaf': [1, 2, 4, 10],\n",
    "        'clf__min_samples_split': [2, 5, 10]\n",
    "    },\n",
    "    'SVC': [\n",
    "        {'clf__kernel': ['rbf'], 'clf__gamma': [0.05, 0.1, 0.5, 1, 2, 5, 10], 'clf__C': [0.1, 1, 10, 100]},\n",
    "        {'clf__kernel': ['poly'], 'clf__degree': [2,3,4,5], 'clf__C': [0.1, 1, 10, 100]},\n",
    "        {'clf__kernel': ['linear'], 'clf__C': [0.1, 1, 10, 100]}\n",
    "        \n",
    "    ],\n",
    "    'LogReg': {\n",
    "        'clf__max_iter': [2000],\n",
    "        'clf__penalty': ['l1', 'l2'],\n",
    "        'clf__solver': ['liblinear'],\n",
    "        'clf__C': [0.005, 0.01, 0.05, 0.07, 0.1, 0.5, 1, 3, 5, 10, 15, 20, 25]\n",
    "    },\n",
    "    'Knn': {\n",
    "        'clf__n_neighbors': [3, 5, 7, 9],\n",
    "        'clf__weights': ['uniform', 'distance'],\n",
    "        'clf__algorithm': ['auto', 'ball_tree', 'kd_tree', 'brute'],\n",
    "        'clf__p': [1, 2]\n",
    "    }\n",
    "}\n",
    "\n",
    "narrowed_params = {\n",
    "    'RndFor': {\n",
    "        'clf__n_estimators': [50, 70, 100],\n",
    "        'clf__bootstrap': [True, False],\n",
    "        'clf__max_depth': [40, 50, 60],\n",
    "        'clf__max_features': ['auto'],\n",
    "        'clf__min_samples_leaf': [1, 4],\n",
    "        'clf__min_samples_split': [10, 15, 18]\n",
    "    },\n",
    "    'XGB': {\n",
    "        'clf__n_estimators': [50, 70, 90, 110],\n",
    "        'clf__reg_alpha': [0, 1],\n",
    "        'clf__reg_lambda': [1, 2],\n",
    "        'clf__learning_rate': [0.07, 0.1],\n",
    "        'clf__sampling_method': ['uniform', 'gradient_based'],\n",
    "        'clf__subsample': [0.5, 0.6],\n",
    "        'clf__gamma': [0.6, 0.7],\n",
    "        'clf__max_depth': [20, 25],\n",
    "        'clf__min_child_weight': [0]        \n",
    "    }    \n",
    "}"
   ]
  },
  {
   "cell_type": "code",
   "execution_count": 49,
   "metadata": {
    "execution": {
     "iopub.execute_input": "2020-09-30T16:22:33.789714Z",
     "iopub.status.busy": "2020-09-30T16:22:33.788892Z",
     "iopub.status.idle": "2020-09-30T16:22:33.790987Z",
     "shell.execute_reply": "2020-09-30T16:22:33.790405Z"
    },
    "papermill": {
     "duration": 0.095275,
     "end_time": "2020-09-30T16:22:33.791104",
     "exception": false,
     "start_time": "2020-09-30T16:22:33.695829",
     "status": "completed"
    },
    "tags": []
   },
   "outputs": [],
   "source": [
    "# rnd_search = RandomizedSearchCV(XGB_workflow, params['XGB'], n_iter=250, cv=5, verbose=True, n_jobs=-1)\n",
    "# best_search = rnd_search.fit(X, y)\n",
    "# gridcv_raport('XGB', best_search)"
   ]
  },
  {
   "cell_type": "code",
   "execution_count": 50,
   "metadata": {
    "execution": {
     "iopub.execute_input": "2020-09-30T16:22:33.977350Z",
     "iopub.status.busy": "2020-09-30T16:22:33.976313Z",
     "iopub.status.idle": "2020-09-30T16:22:33.978907Z",
     "shell.execute_reply": "2020-09-30T16:22:33.979358Z"
    },
    "papermill": {
     "duration": 0.097544,
     "end_time": "2020-09-30T16:22:33.979504",
     "exception": false,
     "start_time": "2020-09-30T16:22:33.881960",
     "status": "completed"
    },
    "tags": []
   },
   "outputs": [],
   "source": [
    "# grid = GridSearchCV(XGB_workflow, narrowed_params['XGB'], cv=5, verbose=True, n_jobs=-1)\n",
    "# best_XGB = grid.fit(X, y)\n",
    "# gridcv_raport('XGB', best_XGB)"
   ]
  },
  {
   "cell_type": "code",
   "execution_count": 51,
   "metadata": {
    "execution": {
     "iopub.execute_input": "2020-09-30T16:22:34.159590Z",
     "iopub.status.busy": "2020-09-30T16:22:34.158628Z",
     "iopub.status.idle": "2020-09-30T16:22:34.162189Z",
     "shell.execute_reply": "2020-09-30T16:22:34.162654Z"
    },
    "papermill": {
     "duration": 0.094926,
     "end_time": "2020-09-30T16:22:34.162821",
     "exception": false,
     "start_time": "2020-09-30T16:22:34.067895",
     "status": "completed"
    },
    "tags": []
   },
   "outputs": [],
   "source": [
    "# rnd_search = RandomizedSearchCV(RndFor_workflow, params['RndFor'], n_iter=150, cv=5, verbose=True, n_jobs=-1)\n",
    "# best_search = rnd_search.fit(X, y)\n",
    "# gridcv_raport('RandomForest', best_search)"
   ]
  },
  {
   "cell_type": "code",
   "execution_count": 52,
   "metadata": {
    "execution": {
     "iopub.execute_input": "2020-09-30T16:22:34.349609Z",
     "iopub.status.busy": "2020-09-30T16:22:34.348719Z",
     "iopub.status.idle": "2020-09-30T16:22:34.352734Z",
     "shell.execute_reply": "2020-09-30T16:22:34.353251Z"
    },
    "papermill": {
     "duration": 0.100253,
     "end_time": "2020-09-30T16:22:34.353423",
     "exception": false,
     "start_time": "2020-09-30T16:22:34.253170",
     "status": "completed"
    },
    "tags": []
   },
   "outputs": [],
   "source": [
    "# grid = GridSearchCV(RndFor_workflow, narrowed_params['RndFor'], cv=5, verbose=True, n_jobs=-1)\n",
    "# best_RndFor = grid.fit(X, y)\n",
    "# gridcv_raport('Random Forest', best_RndFor)"
   ]
  },
  {
   "cell_type": "code",
   "execution_count": 53,
   "metadata": {
    "execution": {
     "iopub.execute_input": "2020-09-30T16:22:34.549823Z",
     "iopub.status.busy": "2020-09-30T16:22:34.548789Z",
     "iopub.status.idle": "2020-09-30T16:22:34.552409Z",
     "shell.execute_reply": "2020-09-30T16:22:34.552977Z"
    },
    "papermill": {
     "duration": 0.102429,
     "end_time": "2020-09-30T16:22:34.553127",
     "exception": false,
     "start_time": "2020-09-30T16:22:34.450698",
     "status": "completed"
    },
    "tags": []
   },
   "outputs": [],
   "source": [
    "# grid = GridSearchCV(SVC_workflow, params['SVC'], cv=5, verbose=True, n_jobs=-1)\n",
    "# best_SVC = grid.fit(X, y)\n",
    "# gridcv_raport('SVC', best_SVC)"
   ]
  },
  {
   "cell_type": "code",
   "execution_count": 54,
   "metadata": {
    "execution": {
     "iopub.execute_input": "2020-09-30T16:22:34.746148Z",
     "iopub.status.busy": "2020-09-30T16:22:34.745096Z",
     "iopub.status.idle": "2020-09-30T16:22:34.747863Z",
     "shell.execute_reply": "2020-09-30T16:22:34.748360Z"
    },
    "papermill": {
     "duration": 0.100806,
     "end_time": "2020-09-30T16:22:34.748528",
     "exception": false,
     "start_time": "2020-09-30T16:22:34.647722",
     "status": "completed"
    },
    "tags": []
   },
   "outputs": [],
   "source": [
    "# grid = GridSearchCV(LogReg_workflow, params['LogReg'], cv=5, verbose=True, n_jobs=-1)\n",
    "# best_lr = grid.fit(X, y)\n",
    "# gridcv_raport('LogisticRegression', best_lr)"
   ]
  },
  {
   "cell_type": "code",
   "execution_count": 55,
   "metadata": {
    "execution": {
     "iopub.execute_input": "2020-09-30T16:22:34.933453Z",
     "iopub.status.busy": "2020-09-30T16:22:34.932772Z",
     "iopub.status.idle": "2020-09-30T16:22:34.936026Z",
     "shell.execute_reply": "2020-09-30T16:22:34.935388Z"
    },
    "papermill": {
     "duration": 0.096038,
     "end_time": "2020-09-30T16:22:34.936142",
     "exception": false,
     "start_time": "2020-09-30T16:22:34.840104",
     "status": "completed"
    },
    "tags": []
   },
   "outputs": [],
   "source": [
    "# grid = GridSearchCV(Knn_workflow, params['Knn'], cv=5, verbose=True, n_jobs=-1)\n",
    "# best_Knn = grid.fit(X, y)\n",
    "# gridcv_raport('Knn', best_Knn)"
   ]
  },
  {
   "cell_type": "markdown",
   "metadata": {
    "papermill": {
     "duration": 0.088761,
     "end_time": "2020-09-30T16:22:35.114261",
     "exception": false,
     "start_time": "2020-09-30T16:22:35.025500",
     "status": "completed"
    },
    "tags": []
   },
   "source": [
    "> # Model Performance after tuning :\n",
    "* XGB 81,7 % => <b>84,5</b>\n",
    "* RandomForest 81,9 % => <b>84,1</b>\n",
    "* SVC 82,8 % => <b>83,3</b>\n",
    "* LogisticRegression 82,7 % => <b>82,9</b>\n",
    "* KNN 82,2 % => <b>82,4</b>"
   ]
  },
  {
   "cell_type": "code",
   "execution_count": 56,
   "metadata": {
    "execution": {
     "iopub.execute_input": "2020-09-30T16:22:35.305891Z",
     "iopub.status.busy": "2020-09-30T16:22:35.304788Z",
     "iopub.status.idle": "2020-09-30T16:22:36.821953Z",
     "shell.execute_reply": "2020-09-30T16:22:36.822503Z"
    },
    "papermill": {
     "duration": 1.615576,
     "end_time": "2020-09-30T16:22:36.822653",
     "exception": false,
     "start_time": "2020-09-30T16:22:35.207077",
     "status": "completed"
    },
    "tags": []
   },
   "outputs": [
    {
     "data": {
      "text/plain": [
       "Pipeline(steps=[('preprocessor',\n",
       "                 ColumnTransformer(remainder='passthrough',\n",
       "                                   transformers=[('embark',\n",
       "                                                  Pipeline(steps=[('impute',\n",
       "                                                                   SimpleImputer(strategy='most_frequent')),\n",
       "                                                                  ('oh_encode',\n",
       "                                                                   OneHotEncoder(drop='first',\n",
       "                                                                                 sparse=False))]),\n",
       "                                                  ['Embarked']),\n",
       "                                                 ('helper1',\n",
       "                                                  Pipeline(steps=[('impute_age',\n",
       "                                                                   FunctionTransformer(func=<function impute_age at 0x7f2ea48fdc20>)),\n",
       "                                                                  ('impute_fare',\n",
       "                                                                   FunctionTransformer(func=<function impute_fare at 0x7f2ea48fddd0>)),\n",
       "                                                                  ('log1p_fare',\n",
       "                                                                   FunctionTransformer(func=<function log_fare at 0x7f2ea48fdf80>))]),\n",
       "                                                  ['Age', 'Fare', 'Pclass']),\n",
       "                                                 ('oh_sex',\n",
       "                                                  OneHotEncoder(drop='first',\n",
       "                                                                sparse=False),\n",
       "                                                  ['Sex'])])),\n",
       "                ('scaling', StandardScaler()),\n",
       "                ('clf', KNeighborsClassifier())])"
      ]
     },
     "execution_count": 56,
     "metadata": {},
     "output_type": "execute_result"
    }
   ],
   "source": [
    "XGB_workflow.set_params(**{'clf__gamma': 0.7, 'clf__learning_rate': 0.07, 'clf__max_depth': 20, 'clf__min_child_weight': 0,\n",
    "                           'clf__n_estimators': 90, 'clf__reg_alpha': 1, 'clf__reg_lambda': 1, 'clf__sampling_method': 'uniform', 'clf__subsample': 0.6})\n",
    "RndFor_workflow.set_params(**{'clf__bootstrap': True, 'clf__max_depth': 40, 'clf__max_features': 'auto', 'clf__min_samples_leaf': 1,\n",
    "                              'clf__min_samples_split': 10, 'clf__n_estimators': 50})\n",
    "SVC_workflow.set_params(**{'clf__C': 10, 'clf__gamma': 0.05, 'clf__kernel': 'rbf'})\n",
    "LogReg_workflow.set_params(**{'clf__C': 15, 'clf__max_iter': 2000, 'clf__penalty': 'l1', 'clf__solver': 'liblinear'})\n",
    "\n",
    "XGB_workflow.fit(X, y)\n",
    "RndFor_workflow.fit(X, y)\n",
    "SVC_workflow.fit(X, y)\n",
    "LogReg_workflow.fit(X, y)\n",
    "Knn_workflow.fit(X, y)"
   ]
  },
  {
   "cell_type": "code",
   "execution_count": 57,
   "metadata": {
    "execution": {
     "iopub.execute_input": "2020-09-30T16:22:37.010551Z",
     "iopub.status.busy": "2020-09-30T16:22:37.009523Z",
     "iopub.status.idle": "2020-09-30T16:22:42.582188Z",
     "shell.execute_reply": "2020-09-30T16:22:42.581642Z"
    },
    "papermill": {
     "duration": 5.668115,
     "end_time": "2020-09-30T16:22:42.582304",
     "exception": false,
     "start_time": "2020-09-30T16:22:36.914189",
     "status": "completed"
    },
    "tags": []
   },
   "outputs": [
    {
     "name": "stdout",
     "output_type": "stream",
     "text": [
      "XGB :\n",
      "Mean Accuracy Score : 0.8458397534668721\n",
      "\n",
      "RandomForest :\n",
      "Mean Accuracy Score : 0.8276964560862867\n",
      "\n",
      "SVC :\n",
      "Mean Accuracy Score : 0.8333525937339497\n",
      "\n",
      "LogisticRegression :\n",
      "Mean Accuracy Score : 0.8299435028248586\n",
      "\n"
     ]
    }
   ],
   "source": [
    "# Performance Reports after tuning\n",
    "cv_raport('XGB', cross_val_score(XGB_workflow, X, y, cv=5, scoring='accuracy'))\n",
    "cv_raport('RandomForest', cross_val_score(RndFor_workflow, X, y, cv=5, scoring='accuracy'))\n",
    "cv_raport('SVC', cross_val_score(SVC_workflow, X, y, cv=5, scoring='accuracy'))\n",
    "cv_raport('LogisticRegression', cross_val_score(LogReg_workflow, X, y, cv=5, scoring='accuracy'))"
   ]
  },
  {
   "cell_type": "markdown",
   "metadata": {
    "papermill": {
     "duration": 0.093306,
     "end_time": "2020-09-30T16:22:42.769750",
     "exception": false,
     "start_time": "2020-09-30T16:22:42.676444",
     "status": "completed"
    },
    "tags": []
   },
   "source": [
    "# Submission"
   ]
  },
  {
   "cell_type": "code",
   "execution_count": 58,
   "metadata": {
    "execution": {
     "iopub.execute_input": "2020-09-30T16:22:42.962263Z",
     "iopub.status.busy": "2020-09-30T16:22:42.961491Z",
     "iopub.status.idle": "2020-09-30T16:22:43.405424Z",
     "shell.execute_reply": "2020-09-30T16:22:43.406005Z"
    },
    "papermill": {
     "duration": 0.542263,
     "end_time": "2020-09-30T16:22:43.406158",
     "exception": false,
     "start_time": "2020-09-30T16:22:42.863895",
     "status": "completed"
    },
    "tags": []
   },
   "outputs": [],
   "source": [
    "X_test = test_fe.drop(['PassengerId', 'Cabin', 'Name', 'Ticket','SibSp', 'Parch', 'num_ticket'], axis=1).copy()\n",
    "predictionsXGB = XGB_workflow.predict(X_test)\n",
    "predictionsRndFor = RndFor_workflow.predict(X_test)\n",
    "predictionsSVC = SVC_workflow.predict(X_test)\n",
    "predictionsLogReg = LogReg_workflow.predict(X_test)"
   ]
  },
  {
   "cell_type": "code",
   "execution_count": 59,
   "metadata": {
    "execution": {
     "iopub.execute_input": "2020-09-30T16:22:43.593214Z",
     "iopub.status.busy": "2020-09-30T16:22:43.592492Z",
     "iopub.status.idle": "2020-09-30T16:22:43.602621Z",
     "shell.execute_reply": "2020-09-30T16:22:43.601642Z"
    },
    "papermill": {
     "duration": 0.10553,
     "end_time": "2020-09-30T16:22:43.602757",
     "exception": false,
     "start_time": "2020-09-30T16:22:43.497227",
     "status": "completed"
    },
    "tags": []
   },
   "outputs": [
    {
     "name": "stdout",
     "output_type": "stream",
     "text": [
      "Differences with XGB:\n",
      "22\n",
      "Differences with XGB:\n",
      "39\n",
      "Differences with XGB:\n",
      "40\n"
     ]
    }
   ],
   "source": [
    "for model in (predictionsRndFor, predictionsSVC, predictionsLogReg):\n",
    "    print('Differences with XGB:')\n",
    "    print(np.sum(predictionsXGB != model))"
   ]
  },
  {
   "cell_type": "code",
   "execution_count": 60,
   "metadata": {
    "execution": {
     "iopub.execute_input": "2020-09-30T16:22:43.796276Z",
     "iopub.status.busy": "2020-09-30T16:22:43.795539Z",
     "iopub.status.idle": "2020-09-30T16:22:44.175546Z",
     "shell.execute_reply": "2020-09-30T16:22:44.176125Z"
    },
    "papermill": {
     "duration": 0.481275,
     "end_time": "2020-09-30T16:22:44.176296",
     "exception": false,
     "start_time": "2020-09-30T16:22:43.695021",
     "status": "completed"
    },
    "tags": []
   },
   "outputs": [],
   "source": [
    "submission_XGB = pd.DataFrame(\n",
    "    {\n",
    "        'PassengerId': test_fe.PassengerId,\n",
    "        'Survived': predictionsXGB\n",
    "    })\n",
    "submission_XGB.to_csv('submission_XGB.csv', index=False)\n",
    "\n",
    "submission_RF = pd.DataFrame(\n",
    "    {\n",
    "        'PassengerId': test_fe.PassengerId,\n",
    "        'Survived': predictionsRndFor\n",
    "    })\n",
    "submission_RF.to_csv('submission_RF.csv', index=False)\n",
    "\n",
    "submission_SVC = pd.DataFrame(\n",
    "    {\n",
    "        'PassengerId': test_fe.PassengerId,\n",
    "        'Survived': predictionsSVC\n",
    "    })\n",
    "submission_SVC.to_csv('submission_SVC.csv', index=False)\n",
    "\n",
    "submission_LogReg = pd.DataFrame(\n",
    "    {\n",
    "        'PassengerId': test_fe.PassengerId,\n",
    "        'Survived': predictionsLogReg\n",
    "    })\n",
    "submission_LogReg.to_csv('submission_LogReg.csv', index=False)"
   ]
  },
  {
   "cell_type": "code",
   "execution_count": null,
   "metadata": {
    "papermill": {
     "duration": 0.092416,
     "end_time": "2020-09-30T16:22:44.360136",
     "exception": false,
     "start_time": "2020-09-30T16:22:44.267720",
     "status": "completed"
    },
    "tags": []
   },
   "outputs": [],
   "source": []
  }
 ],
 "metadata": {
  "kernelspec": {
   "display_name": "Python 3",
   "language": "python",
   "name": "python3"
  },
  "language_info": {
   "codemirror_mode": {
    "name": "ipython",
    "version": 3
   },
   "file_extension": ".py",
   "mimetype": "text/x-python",
   "name": "python",
   "nbconvert_exporter": "python",
   "pygments_lexer": "ipython3",
   "version": "3.7.6"
  },
  "papermill": {
   "duration": 45.354276,
   "end_time": "2020-09-30T16:22:44.558878",
   "environment_variables": {},
   "exception": null,
   "input_path": "__notebook__.ipynb",
   "output_path": "__notebook__.ipynb",
   "parameters": {},
   "start_time": "2020-09-30T16:21:59.204602",
   "version": "2.1.0"
  }
 },
 "nbformat": 4,
 "nbformat_minor": 4
}
